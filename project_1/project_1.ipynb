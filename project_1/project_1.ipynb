{
 "cells": [
  {
   "cell_type": "code",
   "execution_count": 1,
   "id": "585c8e6c",
   "metadata": {},
   "outputs": [],
   "source": [
    "import pandas as pd\n",
    "import numpy as np\n",
    "import matplotlib.pyplot as plt\n",
    "%matplotlib inline\n",
    "import seaborn as sns\n",
    "import plotly.express as px\n",
    "import plotly.graph_objects as go\n",
    "import plotly.figure_factory as ff\n",
    "from plotly.colors import n_colors\n",
    "from plotly.subplots import make_subplots\n",
    "import copy\n",
    "import scipy\n",
    "import random\n",
    "from sklearn.metrics import confusion_matrix"
   ]
  },
  {
   "cell_type": "markdown",
   "id": "86c78adb",
   "metadata": {},
   "source": [
    "## Importing Dataset"
   ]
  },
  {
   "cell_type": "code",
   "execution_count": 2,
   "id": "544589da",
   "metadata": {},
   "outputs": [],
   "source": [
    "df = pd.read_csv('Bank_Customer_Churn_Prediction.csv')"
   ]
  },
  {
   "cell_type": "code",
   "execution_count": 3,
   "id": "3aff809c",
   "metadata": {},
   "outputs": [
    {
     "data": {
      "text/html": [
       "<div>\n",
       "<style scoped>\n",
       "    .dataframe tbody tr th:only-of-type {\n",
       "        vertical-align: middle;\n",
       "    }\n",
       "\n",
       "    .dataframe tbody tr th {\n",
       "        vertical-align: top;\n",
       "    }\n",
       "\n",
       "    .dataframe thead th {\n",
       "        text-align: right;\n",
       "    }\n",
       "</style>\n",
       "<table border=\"1\" class=\"dataframe\">\n",
       "  <thead>\n",
       "    <tr style=\"text-align: right;\">\n",
       "      <th></th>\n",
       "      <th>customer_id</th>\n",
       "      <th>credit_score</th>\n",
       "      <th>country</th>\n",
       "      <th>gender</th>\n",
       "      <th>age</th>\n",
       "      <th>tenure</th>\n",
       "      <th>balance</th>\n",
       "      <th>products_number</th>\n",
       "      <th>credit_card</th>\n",
       "      <th>active_member</th>\n",
       "      <th>estimated_salary</th>\n",
       "      <th>churn</th>\n",
       "    </tr>\n",
       "  </thead>\n",
       "  <tbody>\n",
       "    <tr>\n",
       "      <th>0</th>\n",
       "      <td>15634602</td>\n",
       "      <td>619</td>\n",
       "      <td>France</td>\n",
       "      <td>Female</td>\n",
       "      <td>42</td>\n",
       "      <td>2</td>\n",
       "      <td>0.00</td>\n",
       "      <td>1</td>\n",
       "      <td>1</td>\n",
       "      <td>1</td>\n",
       "      <td>101348.88</td>\n",
       "      <td>1</td>\n",
       "    </tr>\n",
       "    <tr>\n",
       "      <th>1</th>\n",
       "      <td>15647311</td>\n",
       "      <td>608</td>\n",
       "      <td>Spain</td>\n",
       "      <td>Female</td>\n",
       "      <td>41</td>\n",
       "      <td>1</td>\n",
       "      <td>83807.86</td>\n",
       "      <td>1</td>\n",
       "      <td>0</td>\n",
       "      <td>1</td>\n",
       "      <td>112542.58</td>\n",
       "      <td>0</td>\n",
       "    </tr>\n",
       "    <tr>\n",
       "      <th>2</th>\n",
       "      <td>15619304</td>\n",
       "      <td>502</td>\n",
       "      <td>France</td>\n",
       "      <td>Female</td>\n",
       "      <td>42</td>\n",
       "      <td>8</td>\n",
       "      <td>159660.80</td>\n",
       "      <td>3</td>\n",
       "      <td>1</td>\n",
       "      <td>0</td>\n",
       "      <td>113931.57</td>\n",
       "      <td>1</td>\n",
       "    </tr>\n",
       "    <tr>\n",
       "      <th>3</th>\n",
       "      <td>15701354</td>\n",
       "      <td>699</td>\n",
       "      <td>France</td>\n",
       "      <td>Female</td>\n",
       "      <td>39</td>\n",
       "      <td>1</td>\n",
       "      <td>0.00</td>\n",
       "      <td>2</td>\n",
       "      <td>0</td>\n",
       "      <td>0</td>\n",
       "      <td>93826.63</td>\n",
       "      <td>0</td>\n",
       "    </tr>\n",
       "    <tr>\n",
       "      <th>4</th>\n",
       "      <td>15737888</td>\n",
       "      <td>850</td>\n",
       "      <td>Spain</td>\n",
       "      <td>Female</td>\n",
       "      <td>43</td>\n",
       "      <td>2</td>\n",
       "      <td>125510.82</td>\n",
       "      <td>1</td>\n",
       "      <td>1</td>\n",
       "      <td>1</td>\n",
       "      <td>79084.10</td>\n",
       "      <td>0</td>\n",
       "    </tr>\n",
       "  </tbody>\n",
       "</table>\n",
       "</div>"
      ],
      "text/plain": [
       "   customer_id  credit_score country  gender  age  tenure    balance  \\\n",
       "0     15634602           619  France  Female   42       2       0.00   \n",
       "1     15647311           608   Spain  Female   41       1   83807.86   \n",
       "2     15619304           502  France  Female   42       8  159660.80   \n",
       "3     15701354           699  France  Female   39       1       0.00   \n",
       "4     15737888           850   Spain  Female   43       2  125510.82   \n",
       "\n",
       "   products_number  credit_card  active_member  estimated_salary  churn  \n",
       "0                1            1              1         101348.88      1  \n",
       "1                1            0              1         112542.58      0  \n",
       "2                3            1              0         113931.57      1  \n",
       "3                2            0              0          93826.63      0  \n",
       "4                1            1              1          79084.10      0  "
      ]
     },
     "execution_count": 3,
     "metadata": {},
     "output_type": "execute_result"
    }
   ],
   "source": [
    "#have a look on the dataset\n",
    "df.head()"
   ]
  },
  {
   "cell_type": "code",
   "execution_count": 4,
   "id": "56996e15",
   "metadata": {},
   "outputs": [
    {
     "name": "stdout",
     "output_type": "stream",
     "text": [
      "<class 'pandas.core.frame.DataFrame'>\n",
      "RangeIndex: 10000 entries, 0 to 9999\n",
      "Data columns (total 12 columns):\n",
      " #   Column            Non-Null Count  Dtype  \n",
      "---  ------            --------------  -----  \n",
      " 0   customer_id       10000 non-null  int64  \n",
      " 1   credit_score      10000 non-null  int64  \n",
      " 2   country           10000 non-null  object \n",
      " 3   gender            10000 non-null  object \n",
      " 4   age               10000 non-null  int64  \n",
      " 5   tenure            10000 non-null  int64  \n",
      " 6   balance           10000 non-null  float64\n",
      " 7   products_number   10000 non-null  int64  \n",
      " 8   credit_card       10000 non-null  int64  \n",
      " 9   active_member     10000 non-null  int64  \n",
      " 10  estimated_salary  10000 non-null  float64\n",
      " 11  churn             10000 non-null  int64  \n",
      "dtypes: float64(2), int64(8), object(2)\n",
      "memory usage: 937.6+ KB\n"
     ]
    }
   ],
   "source": [
    "df.info()"
   ]
  },
  {
   "cell_type": "code",
   "execution_count": 5,
   "id": "63ee571f",
   "metadata": {},
   "outputs": [
    {
     "data": {
      "text/html": [
       "<div>\n",
       "<style scoped>\n",
       "    .dataframe tbody tr th:only-of-type {\n",
       "        vertical-align: middle;\n",
       "    }\n",
       "\n",
       "    .dataframe tbody tr th {\n",
       "        vertical-align: top;\n",
       "    }\n",
       "\n",
       "    .dataframe thead th {\n",
       "        text-align: right;\n",
       "    }\n",
       "</style>\n",
       "<table border=\"1\" class=\"dataframe\">\n",
       "  <thead>\n",
       "    <tr style=\"text-align: right;\">\n",
       "      <th></th>\n",
       "      <th>customer_id</th>\n",
       "      <th>credit_score</th>\n",
       "      <th>age</th>\n",
       "      <th>tenure</th>\n",
       "      <th>balance</th>\n",
       "      <th>products_number</th>\n",
       "      <th>credit_card</th>\n",
       "      <th>active_member</th>\n",
       "      <th>estimated_salary</th>\n",
       "      <th>churn</th>\n",
       "    </tr>\n",
       "  </thead>\n",
       "  <tbody>\n",
       "    <tr>\n",
       "      <th>count</th>\n",
       "      <td>1.000000e+04</td>\n",
       "      <td>10000.000000</td>\n",
       "      <td>10000.000000</td>\n",
       "      <td>10000.000000</td>\n",
       "      <td>10000.000000</td>\n",
       "      <td>10000.000000</td>\n",
       "      <td>10000.00000</td>\n",
       "      <td>10000.000000</td>\n",
       "      <td>10000.000000</td>\n",
       "      <td>10000.000000</td>\n",
       "    </tr>\n",
       "    <tr>\n",
       "      <th>mean</th>\n",
       "      <td>1.569094e+07</td>\n",
       "      <td>650.528800</td>\n",
       "      <td>38.921800</td>\n",
       "      <td>5.012800</td>\n",
       "      <td>76485.889288</td>\n",
       "      <td>1.530200</td>\n",
       "      <td>0.70550</td>\n",
       "      <td>0.515100</td>\n",
       "      <td>100090.239881</td>\n",
       "      <td>0.203700</td>\n",
       "    </tr>\n",
       "    <tr>\n",
       "      <th>std</th>\n",
       "      <td>7.193619e+04</td>\n",
       "      <td>96.653299</td>\n",
       "      <td>10.487806</td>\n",
       "      <td>2.892174</td>\n",
       "      <td>62397.405202</td>\n",
       "      <td>0.581654</td>\n",
       "      <td>0.45584</td>\n",
       "      <td>0.499797</td>\n",
       "      <td>57510.492818</td>\n",
       "      <td>0.402769</td>\n",
       "    </tr>\n",
       "    <tr>\n",
       "      <th>min</th>\n",
       "      <td>1.556570e+07</td>\n",
       "      <td>350.000000</td>\n",
       "      <td>18.000000</td>\n",
       "      <td>0.000000</td>\n",
       "      <td>0.000000</td>\n",
       "      <td>1.000000</td>\n",
       "      <td>0.00000</td>\n",
       "      <td>0.000000</td>\n",
       "      <td>11.580000</td>\n",
       "      <td>0.000000</td>\n",
       "    </tr>\n",
       "    <tr>\n",
       "      <th>25%</th>\n",
       "      <td>1.562853e+07</td>\n",
       "      <td>584.000000</td>\n",
       "      <td>32.000000</td>\n",
       "      <td>3.000000</td>\n",
       "      <td>0.000000</td>\n",
       "      <td>1.000000</td>\n",
       "      <td>0.00000</td>\n",
       "      <td>0.000000</td>\n",
       "      <td>51002.110000</td>\n",
       "      <td>0.000000</td>\n",
       "    </tr>\n",
       "    <tr>\n",
       "      <th>50%</th>\n",
       "      <td>1.569074e+07</td>\n",
       "      <td>652.000000</td>\n",
       "      <td>37.000000</td>\n",
       "      <td>5.000000</td>\n",
       "      <td>97198.540000</td>\n",
       "      <td>1.000000</td>\n",
       "      <td>1.00000</td>\n",
       "      <td>1.000000</td>\n",
       "      <td>100193.915000</td>\n",
       "      <td>0.000000</td>\n",
       "    </tr>\n",
       "    <tr>\n",
       "      <th>75%</th>\n",
       "      <td>1.575323e+07</td>\n",
       "      <td>718.000000</td>\n",
       "      <td>44.000000</td>\n",
       "      <td>7.000000</td>\n",
       "      <td>127644.240000</td>\n",
       "      <td>2.000000</td>\n",
       "      <td>1.00000</td>\n",
       "      <td>1.000000</td>\n",
       "      <td>149388.247500</td>\n",
       "      <td>0.000000</td>\n",
       "    </tr>\n",
       "    <tr>\n",
       "      <th>max</th>\n",
       "      <td>1.581569e+07</td>\n",
       "      <td>850.000000</td>\n",
       "      <td>92.000000</td>\n",
       "      <td>10.000000</td>\n",
       "      <td>250898.090000</td>\n",
       "      <td>4.000000</td>\n",
       "      <td>1.00000</td>\n",
       "      <td>1.000000</td>\n",
       "      <td>199992.480000</td>\n",
       "      <td>1.000000</td>\n",
       "    </tr>\n",
       "  </tbody>\n",
       "</table>\n",
       "</div>"
      ],
      "text/plain": [
       "        customer_id  credit_score           age        tenure        balance  \\\n",
       "count  1.000000e+04  10000.000000  10000.000000  10000.000000   10000.000000   \n",
       "mean   1.569094e+07    650.528800     38.921800      5.012800   76485.889288   \n",
       "std    7.193619e+04     96.653299     10.487806      2.892174   62397.405202   \n",
       "min    1.556570e+07    350.000000     18.000000      0.000000       0.000000   \n",
       "25%    1.562853e+07    584.000000     32.000000      3.000000       0.000000   \n",
       "50%    1.569074e+07    652.000000     37.000000      5.000000   97198.540000   \n",
       "75%    1.575323e+07    718.000000     44.000000      7.000000  127644.240000   \n",
       "max    1.581569e+07    850.000000     92.000000     10.000000  250898.090000   \n",
       "\n",
       "       products_number  credit_card  active_member  estimated_salary  \\\n",
       "count     10000.000000  10000.00000   10000.000000      10000.000000   \n",
       "mean          1.530200      0.70550       0.515100     100090.239881   \n",
       "std           0.581654      0.45584       0.499797      57510.492818   \n",
       "min           1.000000      0.00000       0.000000         11.580000   \n",
       "25%           1.000000      0.00000       0.000000      51002.110000   \n",
       "50%           1.000000      1.00000       1.000000     100193.915000   \n",
       "75%           2.000000      1.00000       1.000000     149388.247500   \n",
       "max           4.000000      1.00000       1.000000     199992.480000   \n",
       "\n",
       "              churn  \n",
       "count  10000.000000  \n",
       "mean       0.203700  \n",
       "std        0.402769  \n",
       "min        0.000000  \n",
       "25%        0.000000  \n",
       "50%        0.000000  \n",
       "75%        0.000000  \n",
       "max        1.000000  "
      ]
     },
     "execution_count": 5,
     "metadata": {},
     "output_type": "execute_result"
    }
   ],
   "source": [
    "df.describe()"
   ]
  },
  {
   "cell_type": "markdown",
   "id": "e14cc3b4",
   "metadata": {},
   "source": [
    "## Exploratory data analysis (EDA)\n",
    "Our Target Variable X is Churn. In this step, I will analyze the relationship between the Target Variable X and the other features."
   ]
  },
  {
   "cell_type": "code",
   "execution_count": 6,
   "id": "c468c35c",
   "metadata": {},
   "outputs": [
    {
     "data": {
      "text/plain": [
       "customer_id         0\n",
       "credit_score        0\n",
       "country             0\n",
       "gender              0\n",
       "age                 0\n",
       "tenure              0\n",
       "balance             0\n",
       "products_number     0\n",
       "credit_card         0\n",
       "active_member       0\n",
       "estimated_salary    0\n",
       "churn               0\n",
       "dtype: int64"
      ]
     },
     "execution_count": 6,
     "metadata": {},
     "output_type": "execute_result"
    }
   ],
   "source": [
    "#checking null values\n",
    "df.isnull().sum()"
   ]
  },
  {
   "cell_type": "code",
   "execution_count": 7,
   "id": "65355234",
   "metadata": {},
   "outputs": [
    {
     "name": "stdout",
     "output_type": "stream",
     "text": [
      "<class 'pandas.core.frame.DataFrame'>\n",
      "RangeIndex: 10000 entries, 0 to 9999\n",
      "Data columns (total 12 columns):\n",
      " #   Column            Non-Null Count  Dtype  \n",
      "---  ------            --------------  -----  \n",
      " 0   customer_id       10000 non-null  int64  \n",
      " 1   credit_score      10000 non-null  int64  \n",
      " 2   country           10000 non-null  object \n",
      " 3   gender            10000 non-null  object \n",
      " 4   age               10000 non-null  int64  \n",
      " 5   tenure            10000 non-null  int64  \n",
      " 6   balance           10000 non-null  float64\n",
      " 7   products_number   10000 non-null  int64  \n",
      " 8   credit_card       10000 non-null  int64  \n",
      " 9   active_member     10000 non-null  int64  \n",
      " 10  estimated_salary  10000 non-null  float64\n",
      " 11  churn             10000 non-null  int64  \n",
      "dtypes: float64(2), int64(8), object(2)\n",
      "memory usage: 937.6+ KB\n"
     ]
    }
   ],
   "source": [
    "df.info()"
   ]
  },
  {
   "cell_type": "markdown",
   "id": "27fb8b2c",
   "metadata": {},
   "source": [
    "There is no missing value in the dataset. Furthermore, all the columns are numerical values except 2 columns are string."
   ]
  },
  {
   "cell_type": "markdown",
   "id": "2e1a8a7e",
   "metadata": {},
   "source": [
    "### Target Varibale: Chrun"
   ]
  },
  {
   "cell_type": "code",
   "execution_count": 8,
   "id": "98d91ff9",
   "metadata": {},
   "outputs": [
    {
     "data": {
      "text/plain": [
       "0    0.7963\n",
       "1    0.2037\n",
       "Name: churn, dtype: float64"
      ]
     },
     "execution_count": 8,
     "metadata": {},
     "output_type": "execute_result"
    }
   ],
   "source": [
    "df.churn.value_counts(normalize=True)"
   ]
  },
  {
   "cell_type": "markdown",
   "id": "dc30c4b7",
   "metadata": {},
   "source": [
    "As you can see, almost 80% of churn is 0 and 20 is 1"
   ]
  },
  {
   "cell_type": "markdown",
   "id": "323c359d",
   "metadata": {},
   "source": [
    "### Correlation"
   ]
  },
  {
   "cell_type": "code",
   "execution_count": 9,
   "id": "1a53b588",
   "metadata": {},
   "outputs": [
    {
     "data": {
      "text/plain": [
       "<AxesSubplot:>"
      ]
     },
     "execution_count": 9,
     "metadata": {},
     "output_type": "execute_result"
    },
    {
     "data": {
      "image/png": "[encoded data removed]",
      "text/plain": [
       "<Figure size 720x720 with 2 Axes>"
      ]
     },
     "metadata": {
      "needs_background": "light"
     },
     "output_type": "display_data"
    }
   ],
   "source": [
    "plt.figure(figsize=(10,10))\n",
    "sns.heatmap(df.corr(),cbar=True,annot=True)"
   ]
  },
  {
   "cell_type": "markdown",
   "id": "429fd8cf",
   "metadata": {},
   "source": [
    "We can clearly see that age has the highest correlation with the target variable among all other features. Furthermore, we can say that balance has a high correltion with the churn compared to other features. As a conclusion, 'age' and 'balance' are correlated with 'churn' (target variable) "
   ]
  },
  {
   "cell_type": "markdown",
   "id": "1cd811a5",
   "metadata": {},
   "source": [
    "### Age VS Chrun"
   ]
  },
  {
   "cell_type": "code",
   "execution_count": 10,
   "id": "e237e971",
   "metadata": {},
   "outputs": [
    {
     "data": {
      "text/plain": [
       "<AxesSubplot:xlabel='age', ylabel='Count'>"
      ]
     },
     "execution_count": 10,
     "metadata": {},
     "output_type": "execute_result"
    },
    {
     "data": {
      "image/png": "[encoded data removed]",
      "text/plain": [
       "<Figure size 432x288 with 1 Axes>"
      ]
     },
     "metadata": {
      "needs_background": "light"
     },
     "output_type": "display_data"
    }
   ],
   "source": [
    "#age distribution\n",
    "sns.histplot(data=df, x='age', hue='churn',kde=True)"
   ]
  },
  {
   "cell_type": "code",
   "execution_count": 11,
   "id": "3937dd74",
   "metadata": {},
   "outputs": [
    {
     "data": {
      "text/plain": [
       "age\n",
       "18    0.090909\n",
       "19    0.037037\n",
       "20    0.050000\n",
       "21    0.056604\n",
       "22    0.142857\n",
       "        ...   \n",
       "83    0.000000\n",
       "84    0.500000\n",
       "85    0.000000\n",
       "88    0.000000\n",
       "92    0.000000\n",
       "Name: churn, Length: 70, dtype: float64"
      ]
     },
     "execution_count": 11,
     "metadata": {},
     "output_type": "execute_result"
    }
   ],
   "source": [
    "#age and Target Variable\n",
    "age_mean = df.groupby('age')['churn'].mean()\n",
    "age_mean"
   ]
  },
  {
   "cell_type": "code",
   "execution_count": 12,
   "id": "5c0a60ee",
   "metadata": {},
   "outputs": [
    {
     "data": {
      "text/plain": [
       "Text(0, 0.5, 'Churn Ratio')"
      ]
     },
     "execution_count": 12,
     "metadata": {},
     "output_type": "execute_result"
    },
    {
     "data": {
      "image/png": "[encoded data removed]",
      "text/plain": [
       "<Figure size 432x288 with 1 Axes>"
      ]
     },
     "metadata": {
      "needs_background": "light"
     },
     "output_type": "display_data"
    }
   ],
   "source": [
    "plt.bar(age_mean.index, age_mean.values)\n",
    "plt.xlabel('Age')\n",
    "plt.ylabel('Churn Ratio')"
   ]
  },
  {
   "cell_type": "markdown",
   "id": "df164443",
   "metadata": {},
   "source": [
    "Churn ration is very high between ages of 50 and 60"
   ]
  },
  {
   "cell_type": "markdown",
   "id": "a9513f73",
   "metadata": {},
   "source": [
    "### Balance & Churn"
   ]
  },
  {
   "cell_type": "code",
   "execution_count": 13,
   "id": "aa8d1111",
   "metadata": {},
   "outputs": [
    {
     "data": {
      "text/plain": [
       "<AxesSubplot:xlabel='balance', ylabel='Count'>"
      ]
     },
     "execution_count": 13,
     "metadata": {},
     "output_type": "execute_result"
    },
    {
     "data": {
      "image/png": "[encoded data removed]",
      "text/plain": [
       "<Figure size 432x288 with 1 Axes>"
      ]
     },
     "metadata": {
      "needs_background": "light"
     },
     "output_type": "display_data"
    }
   ],
   "source": [
    "sns.histplot(data=df, x='balance',hue='churn',kde=True)"
   ]
  },
  {
   "cell_type": "markdown",
   "id": "bedf9483",
   "metadata": {},
   "source": [
    "### Credit Score & Churn"
   ]
  },
  {
   "cell_type": "code",
   "execution_count": 14,
   "id": "8e549a14",
   "metadata": {},
   "outputs": [
    {
     "data": {
      "text/plain": [
       "<AxesSubplot:xlabel='churn', ylabel='credit_score'>"
      ]
     },
     "execution_count": 14,
     "metadata": {},
     "output_type": "execute_result"
    },
    {
     "data": {
      "image/png": "[encoded data removed]",
      "text/plain": [
       "<Figure size 720x720 with 1 Axes>"
      ]
     },
     "metadata": {
      "needs_background": "light"
     },
     "output_type": "display_data"
    }
   ],
   "source": [
    "plt.figure(figsize=(10,10))\n",
    "sns.boxplot(x='churn',y='credit_score', data=df)"
   ]
  },
  {
   "cell_type": "markdown",
   "id": "d711ba98",
   "metadata": {},
   "source": [
    "### Estimated Salary & Churn"
   ]
  },
  {
   "cell_type": "code",
   "execution_count": 15,
   "id": "7c14dce1",
   "metadata": {},
   "outputs": [
    {
     "data": {
      "text/plain": [
       "<AxesSubplot:xlabel='churn', ylabel='estimated_salary'>"
      ]
     },
     "execution_count": 15,
     "metadata": {},
     "output_type": "execute_result"
    },
    {
     "data": {
      "image/png": "[encoded data removed]",
      "text/plain": [
       "<Figure size 720x720 with 1 Axes>"
      ]
     },
     "metadata": {
      "needs_background": "light"
     },
     "output_type": "display_data"
    }
   ],
   "source": [
    "plt.figure(figsize=(10,10))\n",
    "sns.boxplot(x='churn', y='estimated_salary', data=df)"
   ]
  },
  {
   "cell_type": "markdown",
   "id": "d7b7cf9b",
   "metadata": {},
   "source": [
    "### Gender & Churn"
   ]
  },
  {
   "cell_type": "code",
   "execution_count": 16,
   "id": "73060e3f",
   "metadata": {},
   "outputs": [
    {
     "data": {
      "text/plain": [
       "<AxesSubplot:xlabel='gender', ylabel='count'>"
      ]
     },
     "execution_count": 16,
     "metadata": {},
     "output_type": "execute_result"
    },
    {
     "data": {
      "image/png": "[encoded data removed]",
      "text/plain": [
       "<Figure size 720x720 with 1 Axes>"
      ]
     },
     "metadata": {
      "needs_background": "light"
     },
     "output_type": "display_data"
    }
   ],
   "source": [
    "plt.figure(figsize=(10,10))\n",
    "sns.countplot(x='gender',hue='churn',data=df)"
   ]
  },
  {
   "cell_type": "markdown",
   "id": "e5757434",
   "metadata": {},
   "source": [
    "### Country & Churn"
   ]
  },
  {
   "cell_type": "code",
   "execution_count": 17,
   "id": "95a7b963",
   "metadata": {},
   "outputs": [
    {
     "data": {
      "text/plain": [
       "<AxesSubplot:xlabel='country', ylabel='count'>"
      ]
     },
     "execution_count": 17,
     "metadata": {},
     "output_type": "execute_result"
    },
    {
     "data": {
      "image/png": "[encoded data removed]",
      "text/plain": [
       "<Figure size 720x720 with 1 Axes>"
      ]
     },
     "metadata": {
      "needs_background": "light"
     },
     "output_type": "display_data"
    }
   ],
   "source": [
    "plt.figure(figsize=(10,10))\n",
    "sns.countplot(x='country', hue='churn', data=df)"
   ]
  },
  {
   "cell_type": "markdown",
   "id": "30e805f0",
   "metadata": {},
   "source": [
    "### Credit Card & Churn"
   ]
  },
  {
   "cell_type": "code",
   "execution_count": 18,
   "id": "82465137",
   "metadata": {},
   "outputs": [
    {
     "data": {
      "text/plain": [
       "<AxesSubplot:xlabel='credit_card', ylabel='count'>"
      ]
     },
     "execution_count": 18,
     "metadata": {},
     "output_type": "execute_result"
    },
    {
     "data": {
      "image/png": "[encoded data removed]",
      "text/plain": [
       "<Figure size 720x720 with 1 Axes>"
      ]
     },
     "metadata": {
      "needs_background": "light"
     },
     "output_type": "display_data"
    }
   ],
   "source": [
    "plt.figure(figsize=(10,10))\n",
    "sns.countplot(x='credit_card', hue='churn', data=df)"
   ]
  },
  {
   "cell_type": "markdown",
   "id": "5b8016a4",
   "metadata": {},
   "source": [
    "### Product Number & Churn"
   ]
  },
  {
   "cell_type": "code",
   "execution_count": 19,
   "id": "6b41bfa2",
   "metadata": {},
   "outputs": [
    {
     "data": {
      "text/plain": [
       "<AxesSubplot:xlabel='products_number', ylabel='count'>"
      ]
     },
     "execution_count": 19,
     "metadata": {},
     "output_type": "execute_result"
    },
    {
     "data": {
      "image/png": "[encoded data removed]",
      "text/plain": [
       "<Figure size 720x720 with 1 Axes>"
      ]
     },
     "metadata": {
      "needs_background": "light"
     },
     "output_type": "display_data"
    }
   ],
   "source": [
    "plt.figure(figsize=(10,10))\n",
    "sns.countplot(x='products_number', hue='churn', data=df)"
   ]
  },
  {
   "cell_type": "markdown",
   "id": "09d75110",
   "metadata": {},
   "source": [
    "### Active Members & Churn"
   ]
  },
  {
   "cell_type": "code",
   "execution_count": 20,
   "id": "51217a41",
   "metadata": {},
   "outputs": [
    {
     "data": {
      "text/plain": [
       "<AxesSubplot:xlabel='active_member', ylabel='count'>"
      ]
     },
     "execution_count": 20,
     "metadata": {},
     "output_type": "execute_result"
    },
    {
     "data": {
      "image/png": "[encoded data removed]",
      "text/plain": [
       "<Figure size 720x720 with 1 Axes>"
      ]
     },
     "metadata": {
      "needs_background": "light"
     },
     "output_type": "display_data"
    }
   ],
   "source": [
    "plt.figure(figsize=(10,10))\n",
    "sns.countplot(x='active_member', hue='churn', data=df)"
   ]
  },
  {
   "cell_type": "markdown",
   "id": "46fcbd09",
   "metadata": {},
   "source": [
    "### Tenure & Churn"
   ]
  },
  {
   "cell_type": "code",
   "execution_count": 21,
   "id": "41b94008",
   "metadata": {},
   "outputs": [
    {
     "data": {
      "text/plain": [
       "<AxesSubplot:xlabel='tenure', ylabel='count'>"
      ]
     },
     "execution_count": 21,
     "metadata": {},
     "output_type": "execute_result"
    },
    {
     "data": {
      "image/png": "[encoded data removed]",
      "text/plain": [
       "<Figure size 720x720 with 1 Axes>"
      ]
     },
     "metadata": {
      "needs_background": "light"
     },
     "output_type": "display_data"
    }
   ],
   "source": [
    "plt.figure(figsize=(10,10))\n",
    "sns.countplot(x='tenure', hue='churn', data=df)"
   ]
  },
  {
   "cell_type": "markdown",
   "id": "cf6db1b6",
   "metadata": {},
   "source": [
    "## Handling Imbalance Data"
   ]
  },
  {
   "cell_type": "code",
   "execution_count": 22,
   "id": "e2e99473",
   "metadata": {},
   "outputs": [],
   "source": [
    "#the following script allows us to split our data to 50% has 1 as churn value\n",
    "#and other 50% has 0 as churn value\n",
    "#so we can at least garuantee to have eqaule classes in the target variable\n",
    "\n",
    "#lets store the index of rows that has 0 in the churn in a list\n",
    "\n",
    "L = list(df[df['churn']==0].index)\n",
    "rand_idx = random.sample(L,5926)"
   ]
  },
  {
   "cell_type": "code",
   "execution_count": 23,
   "id": "6a03705d",
   "metadata": {},
   "outputs": [
    {
     "data": {
      "text/plain": [
       "1    2037\n",
       "0    2037\n",
       "Name: churn, dtype: int64"
      ]
     },
     "execution_count": 23,
     "metadata": {},
     "output_type": "execute_result"
    }
   ],
   "source": [
    "#lets drop those random indexes\n",
    "df = df.drop(rand_idx)\n",
    "df['churn'].value_counts()"
   ]
  },
  {
   "cell_type": "markdown",
   "id": "4fb6e6f5",
   "metadata": {},
   "source": [
    "## Handling Categorical Data"
   ]
  },
  {
   "cell_type": "markdown",
   "id": "21d89ea7",
   "metadata": {},
   "source": [
    "### Gender & Country"
   ]
  },
  {
   "cell_type": "code",
   "execution_count": 24,
   "id": "4c213cbe",
   "metadata": {},
   "outputs": [],
   "source": [
    "df = pd.get_dummies(df, columns = ['country', 'gender'])"
   ]
  },
  {
   "cell_type": "markdown",
   "id": "ee7c9271",
   "metadata": {},
   "source": [
    "## Standardization"
   ]
  },
  {
   "cell_type": "code",
   "execution_count": 25,
   "id": "2883acdd",
   "metadata": {},
   "outputs": [
    {
     "data": {
      "text/plain": [
       "Index(['customer_id', 'credit_score', 'age', 'tenure', 'balance',\n",
       "       'products_number', 'credit_card', 'active_member', 'estimated_salary',\n",
       "       'churn', 'country_France', 'country_Germany', 'country_Spain',\n",
       "       'gender_Female', 'gender_Male'],\n",
       "      dtype='object')"
      ]
     },
     "execution_count": 25,
     "metadata": {},
     "output_type": "execute_result"
    }
   ],
   "source": [
    "df.columns"
   ]
  },
  {
   "cell_type": "code",
   "execution_count": 26,
   "id": "fe158f1d",
   "metadata": {},
   "outputs": [],
   "source": [
    "from sklearn.preprocessing import MinMaxScaler\n",
    "vars_co = ['credit_score','age', 'tenure', 'balance','estimated_salary']\n",
    "scaler = MinMaxScaler()\n",
    "df[vars_co] = scaler.fit_transform(df[vars_co])"
   ]
  },
  {
   "cell_type": "markdown",
   "id": "85ee977a",
   "metadata": {},
   "source": [
    "## Modeling: Logistic Regression with a Neural Network"
   ]
  },
  {
   "cell_type": "markdown",
   "id": "897c0bb2",
   "metadata": {},
   "source": [
    "In this part, I will build a logistic regression to predict whether a customer will churn or not using the Bank Customer Churn dataset on Kaggle."
   ]
  },
  {
   "cell_type": "markdown",
   "id": "2ef4930a",
   "metadata": {},
   "source": [
    "### Overview of the problem\n",
    "I will build a simple algorithm that can correctly classify either a certain customer will churn or not."
   ]
  },
  {
   "cell_type": "code",
   "execution_count": 27,
   "id": "88eead30",
   "metadata": {},
   "outputs": [
    {
     "data": {
      "text/html": [
       "<div>\n",
       "<style scoped>\n",
       "    .dataframe tbody tr th:only-of-type {\n",
       "        vertical-align: middle;\n",
       "    }\n",
       "\n",
       "    .dataframe tbody tr th {\n",
       "        vertical-align: top;\n",
       "    }\n",
       "\n",
       "    .dataframe thead th {\n",
       "        text-align: right;\n",
       "    }\n",
       "</style>\n",
       "<table border=\"1\" class=\"dataframe\">\n",
       "  <thead>\n",
       "    <tr style=\"text-align: right;\">\n",
       "      <th></th>\n",
       "      <th>customer_id</th>\n",
       "      <th>credit_score</th>\n",
       "      <th>age</th>\n",
       "      <th>tenure</th>\n",
       "      <th>balance</th>\n",
       "      <th>products_number</th>\n",
       "      <th>credit_card</th>\n",
       "      <th>active_member</th>\n",
       "      <th>estimated_salary</th>\n",
       "      <th>churn</th>\n",
       "      <th>country_France</th>\n",
       "      <th>country_Germany</th>\n",
       "      <th>country_Spain</th>\n",
       "      <th>gender_Female</th>\n",
       "      <th>gender_Male</th>\n",
       "    </tr>\n",
       "  </thead>\n",
       "  <tbody>\n",
       "    <tr>\n",
       "      <th>0</th>\n",
       "      <td>15634602</td>\n",
       "      <td>0.538</td>\n",
       "      <td>0.363636</td>\n",
       "      <td>0.2</td>\n",
       "      <td>0.000000</td>\n",
       "      <td>1</td>\n",
       "      <td>1</td>\n",
       "      <td>1</td>\n",
       "      <td>0.506895</td>\n",
       "      <td>1</td>\n",
       "      <td>1</td>\n",
       "      <td>0</td>\n",
       "      <td>0</td>\n",
       "      <td>1</td>\n",
       "      <td>0</td>\n",
       "    </tr>\n",
       "    <tr>\n",
       "      <th>2</th>\n",
       "      <td>15619304</td>\n",
       "      <td>0.304</td>\n",
       "      <td>0.363636</td>\n",
       "      <td>0.8</td>\n",
       "      <td>0.636357</td>\n",
       "      <td>3</td>\n",
       "      <td>1</td>\n",
       "      <td>0</td>\n",
       "      <td>0.569835</td>\n",
       "      <td>1</td>\n",
       "      <td>1</td>\n",
       "      <td>0</td>\n",
       "      <td>0</td>\n",
       "      <td>1</td>\n",
       "      <td>0</td>\n",
       "    </tr>\n",
       "    <tr>\n",
       "      <th>5</th>\n",
       "      <td>15574012</td>\n",
       "      <td>0.590</td>\n",
       "      <td>0.393939</td>\n",
       "      <td>0.8</td>\n",
       "      <td>0.453394</td>\n",
       "      <td>2</td>\n",
       "      <td>1</td>\n",
       "      <td>0</td>\n",
       "      <td>0.749034</td>\n",
       "      <td>1</td>\n",
       "      <td>0</td>\n",
       "      <td>0</td>\n",
       "      <td>1</td>\n",
       "      <td>0</td>\n",
       "      <td>1</td>\n",
       "    </tr>\n",
       "    <tr>\n",
       "      <th>7</th>\n",
       "      <td>15656148</td>\n",
       "      <td>0.052</td>\n",
       "      <td>0.166667</td>\n",
       "      <td>0.4</td>\n",
       "      <td>0.458540</td>\n",
       "      <td>4</td>\n",
       "      <td>1</td>\n",
       "      <td>0</td>\n",
       "      <td>0.596922</td>\n",
       "      <td>1</td>\n",
       "      <td>0</td>\n",
       "      <td>1</td>\n",
       "      <td>0</td>\n",
       "      <td>1</td>\n",
       "      <td>0</td>\n",
       "    </tr>\n",
       "    <tr>\n",
       "      <th>10</th>\n",
       "      <td>15767821</td>\n",
       "      <td>0.356</td>\n",
       "      <td>0.196970</td>\n",
       "      <td>0.6</td>\n",
       "      <td>0.406606</td>\n",
       "      <td>2</td>\n",
       "      <td>0</td>\n",
       "      <td>0</td>\n",
       "      <td>0.401013</td>\n",
       "      <td>0</td>\n",
       "      <td>1</td>\n",
       "      <td>0</td>\n",
       "      <td>0</td>\n",
       "      <td>0</td>\n",
       "      <td>1</td>\n",
       "    </tr>\n",
       "  </tbody>\n",
       "</table>\n",
       "</div>"
      ],
      "text/plain": [
       "    customer_id  credit_score       age  tenure   balance  products_number  \\\n",
       "0      15634602         0.538  0.363636     0.2  0.000000                1   \n",
       "2      15619304         0.304  0.363636     0.8  0.636357                3   \n",
       "5      15574012         0.590  0.393939     0.8  0.453394                2   \n",
       "7      15656148         0.052  0.166667     0.4  0.458540                4   \n",
       "10     15767821         0.356  0.196970     0.6  0.406606                2   \n",
       "\n",
       "    credit_card  active_member  estimated_salary  churn  country_France  \\\n",
       "0             1              1          0.506895      1               1   \n",
       "2             1              0          0.569835      1               1   \n",
       "5             1              0          0.749034      1               0   \n",
       "7             1              0          0.596922      1               0   \n",
       "10            0              0          0.401013      0               1   \n",
       "\n",
       "    country_Germany  country_Spain  gender_Female  gender_Male  \n",
       "0                 0              0              1            0  \n",
       "2                 0              0              1            0  \n",
       "5                 0              1              0            1  \n",
       "7                 1              0              1            0  \n",
       "10                0              0              0            1  "
      ]
     },
     "execution_count": 27,
     "metadata": {},
     "output_type": "execute_result"
    }
   ],
   "source": [
    "df.head()"
   ]
  },
  {
   "cell_type": "code",
   "execution_count": 28,
   "id": "709bc9cd",
   "metadata": {},
   "outputs": [],
   "source": [
    "from sklearn.model_selection import train_test_split\n",
    "Y = df['churn'].values\n",
    "X = df.drop(['churn','customer_id'], axis=1).values\n",
    "train_set_x, test_set_x, train_set_y, test_set_y = train_test_split(X, Y, test_size = 0.25, random_state = 10)"
   ]
  },
  {
   "cell_type": "code",
   "execution_count": 29,
   "id": "db85c621",
   "metadata": {},
   "outputs": [
    {
     "data": {
      "text/plain": [
       "array([[0.854     , 0.60606061, 0.4       , ..., 0.        , 1.        ,\n",
       "        0.        ],\n",
       "       [0.814     , 0.59090909, 0.3       , ..., 0.        , 0.        ,\n",
       "        1.        ],\n",
       "       [0.2       , 0.42424242, 0.5       , ..., 1.        , 1.        ,\n",
       "        0.        ],\n",
       "       ...,\n",
       "       [0.61      , 0.42424242, 0.7       , ..., 0.        , 1.        ,\n",
       "        0.        ],\n",
       "       [0.846     , 0.68181818, 0.9       , ..., 1.        , 0.        ,\n",
       "        1.        ],\n",
       "       [0.538     , 0.34848485, 0.8       , ..., 0.        , 1.        ,\n",
       "        0.        ]])"
      ]
     },
     "execution_count": 29,
     "metadata": {},
     "output_type": "execute_result"
    }
   ],
   "source": [
    "train_set_x"
   ]
  },
  {
   "cell_type": "code",
   "execution_count": 30,
   "id": "cfe008b5",
   "metadata": {},
   "outputs": [],
   "source": [
    "train_set_x = train_set_x.reshape((train_set_x.shape[1],train_set_x.shape[0]))\n",
    "test_set_x = test_set_x.reshape((test_set_x.shape[1],test_set_x.shape[0]))\n",
    "train_set_y = train_set_y.reshape((1,train_set_y.shape[0]))\n",
    "test_set_y = test_set_y.reshape((1,test_set_y.shape[0]))"
   ]
  },
  {
   "cell_type": "code",
   "execution_count": 31,
   "id": "96941531",
   "metadata": {},
   "outputs": [
    {
     "data": {
      "text/plain": [
       "(1, 3055)"
      ]
     },
     "execution_count": 31,
     "metadata": {},
     "output_type": "execute_result"
    }
   ],
   "source": [
    "train_set_y.shape"
   ]
  },
  {
   "cell_type": "code",
   "execution_count": 32,
   "id": "2d7f7927",
   "metadata": {},
   "outputs": [
    {
     "data": {
      "text/plain": [
       "((13, 3055), (13, 1019))"
      ]
     },
     "execution_count": 32,
     "metadata": {},
     "output_type": "execute_result"
    }
   ],
   "source": [
    "train_set_x.shape, test_set_x.shape"
   ]
  },
  {
   "cell_type": "markdown",
   "id": "9a573b23",
   "metadata": {},
   "source": [
    "### Training Examples and Testing Examples:\n",
    "Lets find the values for: \n",
    "   + m_train (number of training examples)\n",
    "   + m_test (number of test examples)"
   ]
  },
  {
   "cell_type": "code",
   "execution_count": 33,
   "id": "e2b44f66",
   "metadata": {},
   "outputs": [
    {
     "data": {
      "text/plain": [
       "((13, 3055), (13, 1019))"
      ]
     },
     "execution_count": 33,
     "metadata": {},
     "output_type": "execute_result"
    }
   ],
   "source": [
    "train_set_x.shape, test_set_x.shape"
   ]
  },
  {
   "cell_type": "code",
   "execution_count": 34,
   "id": "73bc80d2",
   "metadata": {},
   "outputs": [
    {
     "name": "stdout",
     "output_type": "stream",
     "text": [
      "Number of training examples: m_train = 13\n",
      "Number of testing examples: m_test = 13\n"
     ]
    }
   ],
   "source": [
    "m_train = train_set_x.shape[0]\n",
    "m_test = test_set_x.shape[0]\n",
    "print (\"Number of training examples: m_train = \" + str(m_train))\n",
    "print (\"Number of testing examples: m_test = \" + str(m_test))"
   ]
  },
  {
   "cell_type": "markdown",
   "id": "e1e4f293",
   "metadata": {},
   "source": [
    "### General Architecture of the Learning Algorithms\n",
    "#### Mathematical expression of the algorithm:\n",
    "\n",
    "For one example $x^{(i)}$:\n",
    "$$z^{(i)} = w^T x^{(i)} + b \\tag{1}$$\n",
    "$$\\hat{y}^{(i)} = a^{(i)} = sigmoid(z^{(i)})\\tag{2}$$ \n",
    "$$ \\mathcal{L}(a^{(i)}, y^{(i)}) =  - y^{(i)}  \\log(a^{(i)}) - (1-y^{(i)} )  \\log(1-a^{(i)})\\tag{3}$$\n",
    "\n",
    "\n",
    "The cost is then computed by summing over all training examples:\n",
    "$$ J = \\frac{1}{m} \\sum_{i=1}^m \\mathcal{L}(a^{(i)}, y^{(i)})\\tag{6}$$"
   ]
  },
  {
   "cell_type": "markdown",
   "id": "4fd31304",
   "metadata": {},
   "source": [
    "##  Building the parts of our algorithm ## \n",
    "\n",
    "The main steps for building a Neural Network are:\n",
    "1. Define the model structure (such as number of input features) \n",
    "2. Initialize the model's parameters\n",
    "3. Loop:\n",
    "    - Calculate current loss (forward propagation)\n",
    "    - Calculate current gradient (backward propagation)\n",
    "    - Update parameters (gradient descent)\n",
    "\n",
    "\n",
    "\n",
    "\n",
    "### Helper functions\n",
    "\n",
    "\n",
    "### sigmoid\n",
    "Using your code from \"Python Basics\", implement `sigmoid()`. As you've seen in the figure above, you need to compute $sigmoid(z) = \\frac{1}{1 + e^{-z}}$ for $z = w^T x + b$ to make predictions. Use np.exp()."
   ]
  },
  {
   "cell_type": "code",
   "execution_count": 35,
   "id": "a3bf61b6",
   "metadata": {},
   "outputs": [],
   "source": [
    "#sigmoif function\n",
    "\n",
    "def sigmoid(z):\n",
    "    \"\"\"\n",
    "    Compute the sigmoid of z\n",
    "\n",
    "    Arguments:\n",
    "    z -- A scalar or numpy array of any size.\n",
    "\n",
    "    Return:\n",
    "    s -- sigmoid(z)\n",
    "    \"\"\"\n",
    "\n",
    "  \n",
    "    s = 1/(1+np.exp(-z))\n",
    "    \n",
    "    \n",
    "    return s"
   ]
  },
  {
   "cell_type": "markdown",
   "id": "7a78b50d",
   "metadata": {},
   "source": [
    "###  Initializing parameters\n",
    "\n",
    "\n",
    "###  initialize_with_zeros\n",
    "Implement parameter initialization in the cell below. I have to initialize w as a vector of zeros using np.zeros() in the Numpy library."
   ]
  },
  {
   "cell_type": "code",
   "execution_count": 36,
   "id": "950eddd3",
   "metadata": {},
   "outputs": [],
   "source": [
    "#initialize_with_zeros function\n",
    "\n",
    "\n",
    "def initialize(dim):\n",
    "    \"\"\"\n",
    "    This function creates a vector of zeros of shape (dim, 1) for w and initializes b to 0.\n",
    "    \n",
    "    Argument:\n",
    "    dim -- size of the w vector we want (or number of parameters in this case)\n",
    "    \n",
    "    Returns:\n",
    "    w -- initialized vector of shape (dim, 1)\n",
    "    b -- initialized scalar (corresponds to the bias) of type float\n",
    "    \"\"\"\n",
    "    \n",
    "    \n",
    "   \n",
    "  \n",
    "    b = 0\n",
    "    w = np.zeros(shape=(dim,1))\n",
    "    return w,b\n",
    "    \n",
    "\n",
    "    return w, b"
   ]
  },
  {
   "cell_type": "code",
   "execution_count": 37,
   "id": "e1d95edb",
   "metadata": {},
   "outputs": [
    {
     "data": {
      "text/plain": [
       "(13, 1)"
      ]
     },
     "execution_count": 37,
     "metadata": {},
     "output_type": "execute_result"
    }
   ],
   "source": [
    "w,b = initialize(train_set_x.shape[0])\n",
    "w\n",
    "b\n",
    "w.shape"
   ]
  },
  {
   "cell_type": "code",
   "execution_count": 38,
   "id": "d7612906",
   "metadata": {},
   "outputs": [
    {
     "data": {
      "text/plain": [
       "(13, 3055)"
      ]
     },
     "execution_count": 38,
     "metadata": {},
     "output_type": "execute_result"
    }
   ],
   "source": [
    "train_set_x.shape"
   ]
  },
  {
   "cell_type": "markdown",
   "id": "5bc26047",
   "metadata": {},
   "source": [
    "###  Forward and Backward propagation (Gradient Descent Algorithm)\n",
    "\n",
    "\n",
    "Now that the parameters are initialized, I can do the \"forward\" and \"backward\" propagation steps for learning the parameters.\n",
    "\n",
    "### - propagate\n",
    "Implement a function `propagate()` that computes the cost function and its gradient.\n",
    "\n",
    "**How**:\n",
    "\n",
    "Forward Propagation:\n",
    "- You get X\n",
    "- You compute $A = \\sigma(w^T X + b) = (a^{(1)}, a^{(2)}, ..., a^{(m-1)}, a^{(m)})$\n",
    "- You calculate the cost function: $J = -\\frac{1}{m}\\sum_{i=1}^{m}(y^{(i)}\\log(a^{(i)})+(1-y^{(i)})\\log(1-a^{(i)}))$\n",
    "\n",
    "Here are the two formulas you will be using: \n",
    "\n",
    "$$ \\frac{\\partial J}{\\partial w} = \\frac{1}{m}X(A-Y)^T\\tag{7}$$\n",
    "$$ \\frac{\\partial J}{\\partial b} = \\frac{1}{m} \\sum_{i=1}^m (a^{(i)}-y^{(i)})\\tag{8}$$"
   ]
  },
  {
   "cell_type": "markdown",
   "id": "b0b5a718",
   "metadata": {},
   "source": [
    "### -optimize\n",
    "- I have initialized your parameters.\n",
    "- I am also able to compute a cost function and its gradient.\n",
    "- Now, I want to update the parameters using gradient descent.\n",
    "\n",
    "<a name='ex-6'></a>\n",
    "Write down the optimization function. The goal is to learn $w$ and $b$ by minimizing the cost function $J$. For a parameter $\\theta$, the update rule is $ \\theta = \\theta - \\alpha \\text{ } d\\theta$, where $\\alpha$ is the learning rate."
   ]
  },
  {
   "cell_type": "code",
   "execution_count": null,
   "id": "2255fa42",
   "metadata": {},
   "outputs": [],
   "source": []
  },
  {
   "cell_type": "code",
   "execution_count": 39,
   "id": "0196c2ae",
   "metadata": {},
   "outputs": [],
   "source": [
    "# gradient descent function\n",
    "\n",
    "def gradient_descent(w,b,X,Y,num_iterations=10, learning_rate=0.01):\n",
    "    costs = []\n",
    "    m = X.shape[1]\n",
    "    for i in range(num_iterations):\n",
    "        z = np.dot(w.T,X) + b\n",
    "        A = sigmoid(z)\n",
    "        cost  = -(1/m)*(np.sum(Y*np.log(A) + (1-Y)*np.log(1-A)))\n",
    "        dz = A - Y\n",
    "        dw = (1/m)*np.dot(X,dz.T)\n",
    "        db = (1/m)*np.sum(dz)\n",
    "        w = w - learning_rate*dw\n",
    "        b = b - learning_rate*db\n",
    "        if i%100==0:\n",
    "            costs.append(cost)\n",
    "            print (\"Cost after iteration %i: %f\" %(i, cost))\n",
    "            #test = np.log(A)\n",
    "    params = {'w':w,\n",
    "              'b':b}\n",
    "    return params, costs"
   ]
  },
  {
   "cell_type": "markdown",
   "id": "8e08641b",
   "metadata": {},
   "source": [
    "###  predict\n",
    "The previous function will output the learned w and b. We are able to use w and b to predict the labels for a dataset X. Implement the `predict()` function. There are two steps to computing predictions:\n",
    "\n",
    "1. Calculate $\\hat{Y} = A = \\sigma(w^T X + b)$\n",
    "\n",
    "2. Convert the entries of a into 0 (if activation <= 0.5) or 1 (if activation > 0.5), stores the predictions in a vector `Y_prediction`. If you wish, you can use an `if`/`else` statement in a `for` loop (though there is also a way to vectorize this). "
   ]
  },
  {
   "cell_type": "code",
   "execution_count": 40,
   "id": "c4911ec8",
   "metadata": {},
   "outputs": [],
   "source": [
    "#predict function\n",
    "\n",
    "def predict(w, b, X):\n",
    "    '''\n",
    "    Predict whether the label is 0 or 1 using learned logistic regression parameters (w, b)\n",
    "    \n",
    "    Arguments:\n",
    "    w -- weights, a numpy array of size (num_px * num_px * 3, 1)\n",
    "    b -- bias, a scalar\n",
    "    X -- data \n",
    "    \n",
    "    Returns:\n",
    "    Y_prediction -- a numpy array (vector) containing all predictions (0/1) for the examples in X\n",
    "    '''\n",
    "    \n",
    "    m = X.shape[1]\n",
    "    Y_prediction = np.zeros((1, m))\n",
    "    w = w.reshape(X.shape[0], 1)\n",
    "    \n",
    "    # Compute vector \"A\" predicting the probabilities of a cat being present in the picture\n",
    "    A = sigmoid(np.dot(w.T,X) + b)\n",
    "    \n",
    "    \n",
    "    for i in range(A.shape[1]):\n",
    "        \n",
    "        # Convert probabilities A[0,i] to actual predictions p[0,i]\n",
    "        if A[0,i] > 0.5:\n",
    "            Y_prediction[0,i] = 1\n",
    "        else:\n",
    "            Y_prediction[0,i] = 0\n",
    "        \n",
    "    \n",
    "    return Y_prediction"
   ]
  },
  {
   "cell_type": "markdown",
   "id": "f6e4f71b",
   "metadata": {},
   "source": [
    "##  Merge all functions into a model ##\n",
    "\n",
    "I will now see how the overall model is structured by putting together all the building blocks (functions implemented in the previous parts) together, in the right order.\n",
    "\n",
    "###  model\n",
    "Implement the model function. Use the following notation:\n",
    "    - Y_prediction_test for your predictions on the test set\n",
    "    - Y_prediction_train for your predictions on the train set\n",
    "    - parameters, grads, costs for the outputs of optimize()"
   ]
  },
  {
   "cell_type": "code",
   "execution_count": 41,
   "id": "66220890",
   "metadata": {},
   "outputs": [],
   "source": [
    "#model function\n",
    "\n",
    "def model(X_train, Y_train, X_test, Y_test, num_iterations=2000, learning_rate=0.005, print_cost=False):\n",
    "    \"\"\"\n",
    "    Builds the logistic regression model by calling the function you've implemented previously\n",
    "    \n",
    "    Arguments:\n",
    "    X_train -- training set represented by a numpy array of shape (num_px * num_px * 3, m_train)\n",
    "    Y_train -- training labels represented by a numpy array (vector) of shape (1, m_train)\n",
    "    X_test -- test set represented by a numpy array of shape (num_px * num_px * 3, m_test)\n",
    "    Y_test -- test labels represented by a numpy array (vector) of shape (1, m_test)\n",
    "    num_iterations -- hyperparameter representing the number of iterations to optimize the parameters\n",
    "    learning_rate -- hyperparameter representing the learning rate used in the update rule of optimize()\n",
    "    print_cost -- Set to True to print the cost every 100 iterations\n",
    "    \n",
    "    Returns:\n",
    "    d -- dictionary containing information about the model.\n",
    "    \"\"\"\n",
    "    # initialize parameters with zeros \n",
    "    w,b = initialize(X_train.shape[0])\n",
    "        \n",
    "    # Gradient descent \n",
    "    #parameters, grads, costs = optimize(w, b, X_train, Y_train, num_iterations, learning_rate, print_cost)\n",
    "    params,costs = gradient_descent(w,b,X_train,Y_train,num_iterations, learning_rate)\n",
    "    # Retrieve parameters w and b from dictionary \"parameters\"\n",
    "    w = params['w']\n",
    "    b = params['b']\n",
    "    \n",
    "    Y_prediction_test = predict(w, b, X_test)\n",
    "    Y_prediction_train = predict(w, b, X_train)\n",
    "    # Print train/test Errors\n",
    "    if print_cost:\n",
    "        print(\"train accuracy: {} %\".format(100 - np.mean(np.abs(Y_prediction_train - Y_train)) * 100))\n",
    "        print(\"test accuracy: {} %\".format(100 - np.mean(np.abs(Y_prediction_test - Y_test)) * 100))\n",
    "   \n",
    "    \n",
    "    d = {\"costs\": costs,\n",
    "         \"w\" : w, \n",
    "         \"b\" : b,\n",
    "         \"learning_rate\" : learning_rate,\n",
    "         \"num_iterations\": num_iterations}\n",
    "    \n",
    "    return d"
   ]
  },
  {
   "cell_type": "markdown",
   "id": "8e4aba80",
   "metadata": {},
   "source": [
    "### - Train the model\n",
    "Lets train the model\n"
   ]
  },
  {
   "cell_type": "code",
   "execution_count": 42,
   "id": "4c21a05f",
   "metadata": {},
   "outputs": [
    {
     "name": "stdout",
     "output_type": "stream",
     "text": [
      "Cost after iteration 0: 0.693147\n",
      "Cost after iteration 100: 0.691600\n",
      "Cost after iteration 200: 0.691596\n",
      "Cost after iteration 300: 0.691596\n",
      "Cost after iteration 400: 0.691596\n",
      "Cost after iteration 500: 0.691596\n",
      "Cost after iteration 600: 0.691596\n",
      "Cost after iteration 700: 0.691596\n",
      "Cost after iteration 800: 0.691596\n",
      "Cost after iteration 900: 0.691596\n",
      "train accuracy: 51.391162029459906 %\n",
      "test accuracy: 51.128557409224726 %\n"
     ]
    }
   ],
   "source": [
    "logistic_regression_model = model(train_set_x, train_set_y, test_set_x, test_set_y, num_iterations=1000, learning_rate=0.6, print_cost=True)"
   ]
  },
  {
   "cell_type": "markdown",
   "id": "6277d61d",
   "metadata": {},
   "source": [
    "## Bank Chrun Prediction with one hidden layer"
   ]
  },
  {
   "cell_type": "markdown",
   "id": "4b4bc0e7",
   "metadata": {},
   "source": [
    "In the above code, I tried Logistic regression, and as you can see it did not perfomr that well. Next, I am going to train a Neural Netwok witha single hidden layer and see how that handles the same problem.\n",
    "**The model**:\n",
    "<img src=\"./classification_kiank.png\" style=\"width:600px;height:300px;\">\n",
    "\n",
    "**Mathematically**:\n",
    "\n",
    "For one example $x^{(i)}$:\n",
    "$$z^{[1] (i)} =  W^{[1]} x^{(i)} + b^{[1]}\\tag{1}$$ \n",
    "$$a^{[1] (i)} = \\tanh(z^{[1] (i)})\\tag{2}$$\n",
    "$$z^{[2] (i)} = W^{[2]} a^{[1] (i)} + b^{[2]}\\tag{3}$$\n",
    "$$\\hat{y}^{(i)} = a^{[2] (i)} = \\sigma(z^{ [2] (i)})\\tag{4}$$\n",
    "$$y^{(i)}_{prediction} = \\begin{cases} 1 & \\mbox{if } a^{[2](i)} > 0.5 \\\\ 0 & \\mbox{otherwise } \\end{cases}\\tag{5}$$\n",
    "\n",
    "Given the predictions on all the examples, you can also compute the cost $J$ as follows: \n",
    "$$J = - \\frac{1}{m} \\sum\\limits_{i = 0}^{m} \\large\\left(\\small y^{(i)}\\log\\left(a^{[2] (i)}\\right) + (1-y^{(i)})\\log\\left(1- a^{[2] (i)}\\right)  \\large  \\right) \\small \\tag{6}$$\n",
    "\n",
    "**Reminder**: The general methodology to build a Neural Network is to:\n",
    "    1. Define the neural network structure ( # of input units,  # of hidden units, etc). \n",
    "    2. Initialize the model's parameters\n",
    "    3. Loop:\n",
    "        - Implement forward propagation\n",
    "        - Compute loss\n",
    "        - Implement backward propagation to get the gradients\n",
    "        - Update parameters (gradient descent)"
   ]
  },
  {
   "cell_type": "markdown",
   "id": "59ce3d15",
   "metadata": {},
   "source": [
    "<a name='4-1'></a>\n",
    "### Defining the neural network structure ####\n",
    "\n",
    "<a name='ex-2'></a>\n",
    "### - layer_sizes \n",
    "\n",
    "Define three variables:\n",
    "    - n_x: the size of the input layer\n",
    "    - n_h: the size of the hidden layer (**set this to 4, only for this Example **) \n",
    "    - n_y: the size of the output layer\n",
    "\n"
   ]
  },
  {
   "cell_type": "code",
   "execution_count": 43,
   "id": "f5235a0d",
   "metadata": {},
   "outputs": [],
   "source": [
    "# GRADED FUNCTION: layer_sizes\n",
    "\n",
    "def layer_sizes(X, Y):\n",
    "    \"\"\"\n",
    "    Arguments:\n",
    "    X -- input dataset of shape (input size, number of examples)\n",
    "    Y -- labels of shape (output size, number of examples)\n",
    "    \n",
    "    Returns:\n",
    "    n_x -- the size of the input layer\n",
    "    n_h -- the size of the hidden layer\n",
    "    n_y \n",
    "    \"\"\"\n",
    "    n_x = X.shape[0]\n",
    "    n_y = Y.shape[0]\n",
    "    n_h = 4\n",
    "    return (n_x,n_h,n_y)"
   ]
  },
  {
   "cell_type": "markdown",
   "id": "19c5054c",
   "metadata": {},
   "source": [
    "<a name='4-2'></a>\n",
    "### Initialize the model's parameters ####\n",
    "\n",
    "<a name='ex-3'></a>\n",
    "###  initialize_parameters\n",
    "\n",
    "Implement the function `initialize_parameters()`.\n",
    "\n",
    "**Instructions**:\n",
    "- I will initialize the weights matrices with random values. \n",
    "    - Use: `np.random.randn(a,b) * 0.01` to randomly initialize a matrix of shape (a,b).\n",
    "- I will initialize the bias vectors as zeros. \n",
    "    - Use: `np.zeros((a,b))` to initialize a matrix of shape (a,b) with zeros."
   ]
  },
  {
   "cell_type": "code",
   "execution_count": 44,
   "id": "df16d48a",
   "metadata": {},
   "outputs": [],
   "source": [
    "# GRADED FUNCTION: initialize_parameters\n",
    "\n",
    "def initialize_parameters(n_x, n_h, n_y):\n",
    "    \"\"\"\n",
    "    Argument:\n",
    "    n_x -- size of the input layer\n",
    "    n_h -- size of the hidden layer\n",
    "    n_y -- size of the output layer\n",
    "    \n",
    "    Returns:\n",
    "    params -- python dictionary containing your parameters:\n",
    "                    W1 -- weight matrix of shape (n_h, n_x)\n",
    "                    b1 -- bias vector of shape (n_h, 1)\n",
    "                    W2 -- weight matrix of shape (n_y, n_h)\n",
    "    \"\"\"\n",
    "    W1 = np.random.randn(n_h,n_x)*0.01\n",
    "    b1 = np.zeros((n_h,1))\n",
    "    W2 = np.random.rand(n_y,n_h)*0.01\n",
    "    b2 = np.zeros((n_y,1))\n",
    "    \n",
    "    parameters = {\"W1\": W1,\n",
    "                  \"b1\": b1,\n",
    "                  \"W2\": W2,\n",
    "                  \"b2\": b2}\n",
    "    return parameters"
   ]
  },
  {
   "cell_type": "markdown",
   "id": "8caa2332",
   "metadata": {},
   "source": [
    "<a name='4-3'></a>\n",
    "### The Loop \n",
    "\n",
    "<a name='ex-4'></a>\n",
    "### forward_propagation\n",
    "\n",
    "Implement `forward_propagation()` using the following equations:\n",
    "\n",
    "$$Z^{[1]} =  W^{[1]} X + b^{[1]}\\tag{1}$$ \n",
    "$$A^{[1]} = \\tanh(Z^{[1]})\\tag{2}$$\n",
    "$$Z^{[2]} = W^{[2]} A^{[1]} + b^{[2]}\\tag{3}$$\n",
    "$$\\hat{Y} = A^{[2]} = \\sigma(Z^{[2]})\\tag{4}$$\n",
    "\n",
    "\n",
    "**Instructions**:\n",
    "\n",
    "- Check the mathematical representation of your classifier in the figure above.\n",
    "- Use the function `sigmoid()`. It's already implemented in this notebook.\n",
    "- Use the function `np.tanh()`. It's part of the numpy library.\n",
    "- Implement using these steps:\n",
    "- Values needed in the backpropagation are stored in \"cache\". The cache will be given as an input to the backpropagation function."
   ]
  },
  {
   "cell_type": "code",
   "execution_count": 45,
   "id": "21f8f8c1",
   "metadata": {},
   "outputs": [],
   "source": [
    "# GRADED FUNCTION:forward_propagation\n",
    "\n",
    "def forward_propagation(X, parameters):\n",
    "    \"\"\"\n",
    "    Argument:\n",
    "    X -- input data of size (n_x, m)\n",
    "    parameters -- python dictionary containing your parameters (output of initialization function)\n",
    "    \n",
    "    Returns:\n",
    "    A2 -- The sigmoid output of the second activation\n",
    "    cache -- a dictionary containing \"Z1\", \"A1\", \"Z2\" and \"A2\"\n",
    "    \"\"\"\n",
    "    \n",
    "    # Retrieve each parameter from the dictionary \"parameters\"\n",
    "    W1 = parameters['W1']\n",
    "    W2 = parameters['W2']\n",
    "    b1 = parameters['b1']\n",
    "    b2 = parameters['b2']\n",
    "    \n",
    "    # Implement Forward Propagation to calculate A2 (probabilities)\n",
    "    Z1 = np.dot(W1,X) + b1\n",
    "    A1 = np.tanh(Z1)\n",
    "    Z2 = np.dot(W2,A1) + b2\n",
    "    A2 = sigmoid(Z2)\n",
    "    \n",
    "    assert(A2.shape == (1,X.shape[1]))\n",
    "    \n",
    "    cache = {\"Z1\": Z1,\n",
    "             \"A1\": A1,\n",
    "             \"Z2\": Z2,\n",
    "             \"A2\": A2}\n",
    "    return A2, cache"
   ]
  },
  {
   "cell_type": "markdown",
   "id": "bed4bcbe",
   "metadata": {},
   "source": [
    "<a name='4-4'></a>\n",
    "### Compute the Cost\n",
    "\n",
    "Now that I have computed $A^{[2]}$ (in the Python variable \"`A2`\"), which contains $a^{[2](i)}$ for all examples, you can compute the cost function as follows:\n",
    "\n",
    "$$J = - \\frac{1}{m} \\sum\\limits_{i = 1}^{m} \\large{(} \\small y^{(i)}\\log\\left(a^{[2] (i)}\\right) + (1-y^{(i)})\\log\\left(1- a^{[2] (i)}\\right) \\large{)} \\small\\tag{13}$$\n",
    "\n",
    "<a name='ex-5'></a>\n",
    "###  - compute_cost \n",
    "\n",
    "Implement `compute_cost()` to compute the value of the cost $J$.\n",
    "\n",
    "**Instructions**:\n",
    "- There are many ways to implement the cross-entropy loss. This is one way to implement one part of the equation without for loops:\n",
    "$- \\sum\\limits_{i=1}^{m}  y^{(i)}\\log(a^{[2](i)})$:\n",
    "```python\n",
    "logprobs = np.multiply(np.log(A2),Y)\n",
    "cost = - np.sum(logprobs)          \n",
    "```\n",
    "\n",
    "- Use that to build the whole expression of the cost function.\n"
   ]
  },
  {
   "cell_type": "code",
   "execution_count": 46,
   "id": "f31696d2",
   "metadata": {},
   "outputs": [],
   "source": [
    "# GRADED FUNCTION: compute_cost\n",
    "\n",
    "def compute_cost(A2, Y):\n",
    "    \"\"\"\n",
    "    Computes the cross-entropy cost given in equation (13)\n",
    "    \n",
    "    Arguments:\n",
    "    A2 -- The sigmoid output of the second activation, of shape (1, number of examples)\n",
    "    Y -- \"true\" labels vector of shape (1, number of examples)\n",
    "\n",
    "    Returns:\n",
    "    cost -- cross-entropy cost given equation (13)\n",
    "    \n",
    "    \"\"\"\n",
    "    m = Y.shape[1] #number of examples\n",
    "    #compute the coss-ebtropy cost\n",
    "    logprobs = np.multiply(np.log(A2),Y) + np.multiply((1-Y),np.log(1-A2))\n",
    "    cost = - np.sum(logprobs) / m\n",
    "    cost = float(np.squeeze(cost))\n",
    "    \n",
    "    return cost"
   ]
  },
  {
   "cell_type": "markdown",
   "id": "893f0eb1",
   "metadata": {},
   "source": [
    "<a name='ex-6'></a>\n",
    "### -  backward_propagation\n",
    "\n",
    "Implement the function `backward_propagation()`.\n",
    "\n",
    "**Instructions**: I will use the six equations on the right of this slide, since I am building a vectorized implementation.  \n",
    "\n",
    "<img src=\"./grad_summary.png\" style=\"width:600px;height:300px;\">\n",
    "<caption><center><font color='purple'><b>Figure 1</b>: Backpropagation. Use the six equations on the right.</font></center></caption>\n",
    "\n",
    "<!--\n",
    "$\\frac{\\partial \\mathcal{J} }{ \\partial z_{2}^{(i)} } = \\frac{1}{m} (a^{[2](i)} - y^{(i)})$\n",
    "\n",
    "$\\frac{\\partial \\mathcal{J} }{ \\partial W_2 } = \\frac{\\partial \\mathcal{J} }{ \\partial z_{2}^{(i)} } a^{[1] (i) T} $\n",
    "\n",
    "$\\frac{\\partial \\mathcal{J} }{ \\partial b_2 } = \\sum_i{\\frac{\\partial \\mathcal{J} }{ \\partial z_{2}^{(i)}}}$\n",
    "\n",
    "$\\frac{\\partial \\mathcal{J} }{ \\partial z_{1}^{(i)} } =  W_2^T \\frac{\\partial \\mathcal{J} }{ \\partial z_{2}^{(i)} } * ( 1 - a^{[1] (i) 2}) $\n",
    "\n",
    "$\\frac{\\partial \\mathcal{J} }{ \\partial W_1 } = \\frac{\\partial \\mathcal{J} }{ \\partial z_{1}^{(i)} }  X^T $\n",
    "\n",
    "$\\frac{\\partial \\mathcal{J} _i }{ \\partial b_1 } = \\sum_i{\\frac{\\partial \\mathcal{J} }{ \\partial z_{1}^{(i)}}}$\n",
    "\n",
    "- Note that $*$ denotes elementwise multiplication.\n",
    "- The notation you will use is common in deep learning coding:\n",
    "    - dW1 = $\\frac{\\partial \\mathcal{J} }{ \\partial W_1 }$\n",
    "    - db1 = $\\frac{\\partial \\mathcal{J} }{ \\partial b_1 }$\n",
    "    - dW2 = $\\frac{\\partial \\mathcal{J} }{ \\partial W_2 }$\n",
    "    - db2 = $\\frac{\\partial \\mathcal{J} }{ \\partial b_2 }$\n",
    "    \n",
    "!-->\n",
    "\n",
    "- Tips:\n",
    "    - To compute dZ1 you'll need to compute $g^{[1]'}(Z^{[1]})$. Since $g^{[1]}(.)$ is the tanh activation function, if $a = g^{[1]}(z)$ then $g^{[1]'}(z) = 1-a^2$. So you can compute \n",
    "    $g^{[1]'}(Z^{[1]})$ using `(1 - np.power(A1, 2))`."
   ]
  },
  {
   "cell_type": "code",
   "execution_count": 47,
   "id": "241bf771",
   "metadata": {},
   "outputs": [],
   "source": [
    "# GRADED FUNCTION: backward_propagation\n",
    "\n",
    "def backward_propagation(parameters, cache, X, Y):\n",
    "    \"\"\"\n",
    "    Implement the backward propagation using the instructions above.\n",
    "    \n",
    "    Arguments:\n",
    "    parameters -- python dictionary containing our parameters \n",
    "    cache -- a dictionary containing \"Z1\", \"A1\", \"Z2\" and \"A2\".\n",
    "    X -- input data of shape (2, number of examples)\n",
    "    Y -- \"true\" labels vector of shape (1, number of examples)\n",
    "    \n",
    "    Returns:\n",
    "    grads -- python dictionary containing your gradients with respect to different parameters\n",
    "    \"\"\"\n",
    "    m = X.shape[1]\n",
    "    \n",
    "    #First, retrieve W1 and W2 from the dictionary \"parameters\".\n",
    "    W1 = parameters['W1']\n",
    "    W2 = parameters['W2']\n",
    "    #Retrieve also A1 and A2 from dicionary 'cache'\n",
    "    A1 = cache['A1']\n",
    "    A2 = cache['A2']\n",
    "    \n",
    "    dZ2 = A2 - Y\n",
    "    dW2 = (1/m)*np.dot(dZ2,A2.T)\n",
    "    db2 = (1/m)*np.sum(dZ2,axis=1,keepdims=True)\n",
    "    dZ1 = np.dot(W2.T,dZ2)*(1-np.power(A1,2))\n",
    "    dW1 = (1/m)*np.dot(dZ1,X.T)\n",
    "    db1 = (1/m)*np.sum(dZ1,axis=1,keepdims=True)\n",
    "    \n",
    "    grads = {\"dW1\": dW1,\n",
    "             \"db1\": db1,\n",
    "             \"dW2\": dW2,\n",
    "             \"db2\": db2}\n",
    "    return grads"
   ]
  },
  {
   "cell_type": "markdown",
   "id": "b67e0f58",
   "metadata": {},
   "source": [
    "<a name='ex-7'></a>\n",
    "### - update_parameters\n",
    "\n",
    "Implement the update rule. Use gradient descent. You have to use (dW1, db1, dW2, db2) in order to update (W1, b1, W2, b2).\n",
    "\n",
    "**General gradient descent rule**: $\\theta = \\theta - \\alpha \\frac{\\partial J }{ \\partial \\theta }$ where $\\alpha$ is the learning rate and $\\theta$ represents a parameter.\n",
    "\n",
    "<img src=\"./sgd.gif\" style=\"width:400;height:400;\"> <img src=\"./sgd_bad.gif\" style=\"width:400;height:400;\">\n",
    "<caption><center><font color='purple'><b>Figure 2</b>: The gradient descent algorithm with a good learning rate (converging) and a bad learning rate (diverging). Images courtesy of Adam Harley.</font></center></caption>\n",
    "\n",
    "**Note**\n",
    "\n",
    "- Use `copy.deepcopy(...)` when copying lists or dictionaries that are passed as parameters to functions. It avoids input parameters being modified within the function. In some scenarios, this could be inefficient, but it is required for grading purposes.\n"
   ]
  },
  {
   "cell_type": "code",
   "execution_count": 48,
   "id": "d3939389",
   "metadata": {},
   "outputs": [],
   "source": [
    "# GRADED FUNCTION: update_parameters\n",
    "\n",
    "def update_parameters(parameters, grads, learning_rate = 3):\n",
    "    \"\"\"\n",
    "    Updates parameters using the gradient descent update rule given above\n",
    "    \n",
    "    Arguments:\n",
    "    parameters -- python dictionary containing your parameters \n",
    "    grads -- python dictionary containing your gradients \n",
    "    \n",
    "    Returns:\n",
    "    parameters -- python dictionary containing your updated parameters \n",
    "    \"\"\"\n",
    "    #Retrieve a copy of each parameter from the dicionary \"parameters\"\n",
    "    W1 = copy.deepcopy(parameters['W1'])\n",
    "    W2 = copy.deepcopy(parameters['W2'])\n",
    "    b1 = copy.deepcopy(parameters['b1'])\n",
    "    b2 = copy.deepcopy(parameters['b2'])\n",
    "    \n",
    "    #Retrieve each gradient from dictionary \"grads\"\n",
    "    dW1 = grads['dW1']\n",
    "    dW2 = grads['dW2']\n",
    "    db1 = grads['db1']\n",
    "    db2 = grads['db2']\n",
    "    \n",
    "    #Update for each parameter\n",
    "    W1 = W1 - learning_rate*dW1\n",
    "    W2 = W2 - learning_rate*dW2\n",
    "    b1 = b1 - learning_rate*db1\n",
    "    b2 = b2 - learning_rate*db2\n",
    "    \n",
    "    parameters = {\"W1\": W1,\n",
    "                  \"b1\": b1,\n",
    "                  \"W2\": W2,\n",
    "                  \"b2\": b2}\n",
    "    return parameters\n",
    "    "
   ]
  },
  {
   "cell_type": "markdown",
   "id": "aec5ef05",
   "metadata": {},
   "source": [
    "<a name='4-7'></a>\n",
    "### - Integration\n",
    "\n",
    "I will Integrate the above functions in `nn_model()` \n",
    "\n",
    "<a name='ex-8'></a>\n",
    "### - nn_model\n",
    "\n",
    "Building a neural network model in `nn_model()`.\n",
    "\n",
    "**Instructions**: The neural network model has to use the previous functions in the right order."
   ]
  },
  {
   "cell_type": "code",
   "execution_count": 49,
   "id": "2e70b44d",
   "metadata": {},
   "outputs": [],
   "source": [
    "# GRADED FUNCTION: nn_model\n",
    "\n",
    "def nn_model(X, Y, n_h, num_iterations = 10000, print_cost=False, learning_rate=1.2):\n",
    "    \"\"\"\n",
    "    Arguments:\n",
    "    X -- dataset \n",
    "    Y -- labels \n",
    "    n_h -- size of the hidden layer\n",
    "    num_iterations -- Number of iterations in gradient descent loop\n",
    "    print_cost -- if True, print the cost every 1000 iterations\n",
    "    \n",
    "    Returns:\n",
    "    parameters -- parameters learnt by the model. They can then be used to predict.\n",
    "    \"\"\"\n",
    "    np.random.seed(3)\n",
    "    n_x = layer_sizes(X,Y)[0]\n",
    "    n_y = layer_sizes(X,Y)[2]\n",
    "    \n",
    "    #Initialize parameters\n",
    "    parameters = initialize_parameters(n_x,n_h,n_y)\n",
    "    \n",
    "    costs = []\n",
    "    \n",
    "    #Loop (gradient descent)\n",
    "    for i in range(0,num_iterations):\n",
    "        #Forward propagation\n",
    "        A2, cache = forward_propagation(X,parameters)\n",
    "        \n",
    "        #Cost function\n",
    "        cost = compute_cost(A2,Y)\n",
    "        \n",
    "        #Backpropagation\n",
    "        grads = backward_propagation(parameters,cache,X,Y)\n",
    "        \n",
    "        #Gradient descent parameters upadte\n",
    "        parameters = update_parameters(parameters,grads,learning_rate)\n",
    "        \n",
    "        #print the cost every 1000 iterations\n",
    "        if print_cost and i % 1000 == 0 or i == num_iterations - 1:\n",
    "            print(\"Cost after iteration {}: {}\".format(i, np.squeeze(cost)))\n",
    "        if i % 1000 == 0 or i == num_iterations:\n",
    "            costs.append(cost)\n",
    "            \n",
    "    return parameters, costs\n"
   ]
  },
  {
   "cell_type": "code",
   "execution_count": 50,
   "id": "fcf3a92c",
   "metadata": {},
   "outputs": [],
   "source": [
    "def costs_plot(costs, learning_rate=0.01):\n",
    "    \"\"\"\n",
    "    Arguments\n",
    "        costs -- it is a list that contains the values of cost of the model during the training phase\n",
    "        learning_rate -- the learning rate of the model\n",
    "    \"\"\"\n",
    "    plt.plot(np.squeeze(costs))\n",
    "    plt.ylabel('cost')\n",
    "    plt.xlabel('iterations (per thousands)')\n",
    "    plt.title('Learning rate ='+ str(learning_rate))\n",
    "    plt.show()"
   ]
  },
  {
   "cell_type": "markdown",
   "id": "405544a5",
   "metadata": {},
   "source": [
    "<a name='5'></a>\n",
    "## Test the Model\n",
    "\n",
    "<a name='5-1'></a>\n",
    "### - Predict\n",
    "\n",
    "Predict with the model by building `predict()`.\n",
    "Use forward propagation to predict results.\n",
    "\n",
    "**Reminder**: predictions = $y_{prediction} = \\mathbb 1 \\text{{activation > 0.5}} = \\begin{cases}\n",
    "      1 & \\text{if}\\ activation > 0.5 \\\\\n",
    "      0 & \\text{otherwise}\n",
    "    \\end{cases}$  \n",
    "    \n",
    "As an example, if you would like to set the entries of a matrix X to 0 and 1 based on a threshold you would do: ```X_new = (X > threshold)```"
   ]
  },
  {
   "cell_type": "code",
   "execution_count": 51,
   "id": "a3203a36",
   "metadata": {},
   "outputs": [],
   "source": [
    "# GRADED FUNCTION: predict\n",
    "\n",
    "def predict(parameters, X):\n",
    "    \"\"\"\n",
    "    Using the learned parameters, predicts a class for each example in X\n",
    "    \n",
    "    Arguments:\n",
    "    parameters -- python dictionary containing your parameters \n",
    "    X -- input data of size (n_x, m)\n",
    "    \n",
    "    Returns\n",
    "    predictions -- vector of predictions of our model (red: 0 / blue: 1)\n",
    "    \"\"\"\n",
    "    A2, cache = forward_propagation(X,parameters)\n",
    "    predictions = np.round(A2)\n",
    "    \n",
    "    return predictions"
   ]
  },
  {
   "cell_type": "markdown",
   "id": "f2040e54",
   "metadata": {},
   "source": [
    "### -Evaluating\n",
    "How can we measure the effectiveness of our model. Better the effectiveness, better the performance, and this is exactly what we want. So, here where the role of confusion matrix comes into the limelight.\n",
    "Confusion Matrix is a performance measurement for machine learning classification problem where output can be two or more classes. It is a table with 4 different combinations of predicted and actual values.\n",
    "\n",
    "<img src=\"./confusion_matrix.png\" style=\"width:600px;height:300px;\">\n",
    "\n",
    "In the following part, I will build a function that takes a confusion matrix of a certain model as an input, and it calculate different measurement such as recall, precision, and f1 score from scratch.\n",
    "\n",
    "Let’s understand TP, FP, FN, TN in terms of pregnancy analogy.\n",
    "\n",
    "<img src=\"./confusion_matrix_example.png\" style=\"width:600px;height:300px;\">\n",
    "\n",
    "\n",
    "**True Positive:**\n",
    "\n",
    "    - Interpretation: You predicted positive and it’s true.\n",
    "\n",
    "    - You predicted that a woman is pregnant and she actually is.\n",
    "\n",
    "**True Negative:**\n",
    "\n",
    "    - Interpretation: You predicted negative and it’s true.\n",
    "\n",
    "    - You predicted that a man is not pregnant and he actually is not.\n",
    "\n",
    "**False Positive: (Type 1 Error)**\n",
    "\n",
    "    - Interpretation: You predicted positive and it’s false.\n",
    "\n",
    "    - You predicted that a man is pregnant but he actually is not.\n",
    "\n",
    "**False Negative: (Type 2 Error)**\n",
    "\n",
    "    - Interpretation: You predicted negative and it’s false.\n",
    "\n",
    "    - You predicted that a woman is not pregnant but she actually is.\n",
    "\n",
    "Just Remember, We describe predicted values as Positive and Negative and actual values as True and False.\n",
    "\n",
    "<img src=\"./confusion_matrix_example2.png\" style=\"width:600px;height:300px;\">\n",
    "\n"
   ]
  },
  {
   "cell_type": "code",
   "execution_count": 52,
   "id": "09859878",
   "metadata": {},
   "outputs": [],
   "source": [
    "def evaluate(confusion_martix):\n",
    "    \"\"\"\n",
    "    Arguments:\n",
    "    \n",
    "    confusion_matrix -- it is the confusion matrix of the model\n",
    "    \n",
    "    recall -- it can be explained by saying, from all the positive classes, how many we predicted correctly.\n",
    "    precision -- it can be explained by saying, from all the classes we have predicted as positive, how many are actually positive.\n",
    "    f1_score -- it helps to measure Recall and Precision at the same time\n",
    "    \"\"\"\n",
    "    TP = confusion_martix[0,0]\n",
    "    FP = confusion_martix[0,1]\n",
    "    FN = confusion_martix[1,0]\n",
    "    TN = confusion_martix[1,1]\n",
    "    \n",
    "    recall = (TP)/(TP+FN)\n",
    "    precision = TP/(TP+FP)\n",
    "    f1_score = (2*recall*precision)/(recall+precision)\n",
    "    print(\"recall: %f | precision: %f | f1_score: %f\" %(recall,precision,f1_score))"
   ]
  },
  {
   "cell_type": "markdown",
   "id": "f82063a1",
   "metadata": {},
   "source": [
    "<a name='5-2'></a>\n",
    "### 5.2 - Test the Model on the Bank Churn Dataset\n",
    "\n",
    "It's time to run the model and see how it performs on a Bank Churn dataset. By running the following code we will test the model with a single hidden layer of $n_h$ hidden units!. Furthermore, to see how the model performance in different cases, I will run different test by changing the number of iteration and learning rate, so we can see how those parameters affect on the model training perfermance."
   ]
  },
  {
   "cell_type": "markdown",
   "id": "de1e85d2",
   "metadata": {},
   "source": [
    "### Test: #1\n",
    "In this test, I will use 10000 iterations and leraning rate equals to 1.2"
   ]
  },
  {
   "cell_type": "code",
   "execution_count": 53,
   "id": "f78164e3",
   "metadata": {},
   "outputs": [
    {
     "name": "stdout",
     "output_type": "stream",
     "text": [
      "Cost after iteration 0: 0.6931565983183068\n",
      "Cost after iteration 1000: 0.6916017143844675\n",
      "Cost after iteration 2000: 0.6915569408053556\n",
      "Cost after iteration 3000: 0.6906672603626592\n",
      "Cost after iteration 4000: 0.6873764577651327\n",
      "Cost after iteration 5000: 0.6777208672973464\n",
      "Cost after iteration 6000: 0.6608093818148031\n",
      "Cost after iteration 7000: 0.6448750053963397\n",
      "Cost after iteration 8000: 0.6313568927774262\n",
      "Cost after iteration 9000: 0.620253778145935\n",
      "Cost after iteration 9999: 0.6129220283581401\n"
     ]
    }
   ],
   "source": [
    "# Build a model with a n_h-dimensional hidden layer\n",
    "parameters, costs = nn_model(train_set_x, train_set_y, n_h = 20, num_iterations = 10000, print_cost=True, learning_rate=1.2)\n"
   ]
  },
  {
   "cell_type": "code",
   "execution_count": 54,
   "id": "54d3b2d1",
   "metadata": {},
   "outputs": [
    {
     "data": {
      "image/png": "[encoded data removed]",
      "text/plain": [
       "<Figure size 432x288 with 1 Axes>"
      ]
     },
     "metadata": {
      "needs_background": "light"
     },
     "output_type": "display_data"
    }
   ],
   "source": [
    "costs_plot(costs,1.2)"
   ]
  },
  {
   "cell_type": "code",
   "execution_count": 55,
   "id": "28d4bdb4",
   "metadata": {},
   "outputs": [
    {
     "name": "stdout",
     "output_type": "stream",
     "text": [
      "train accuracy: 65.270049%\n",
      "test accuracy: 49.852797%\n"
     ]
    }
   ],
   "source": [
    "# Print accuracy\n",
    "predictions_train = predict(parameters, train_set_x)\n",
    "predictions_test = predict(parameters, test_set_x)\n",
    "print ('train accuracy: %f' % float((np.dot(train_set_y, predictions_train.T) + np.dot(1 - train_set_y, 1 - predictions_train.T)) / float(train_set_y.size) * 100) + '%')\n",
    "print ('test accuracy: %f' % float((np.dot(test_set_y, predictions_test.T) + np.dot(1 - test_set_y, 1 - predictions_test.T)) / float(test_set_y.size) * 100) + '%')"
   ]
  },
  {
   "cell_type": "code",
   "execution_count": 56,
   "id": "71c8d446",
   "metadata": {},
   "outputs": [],
   "source": [
    "#lets reshape the training set of Y and predictio set Y, so we can use it in the confusion matrix\n",
    "a_t_y = np.reshape(train_set_y,(train_set_y.shape[1],)) \n",
    "a_p_y = np.reshape(predictions_train, (predictions_train.shape[1],))"
   ]
  },
  {
   "cell_type": "code",
   "execution_count": 57,
   "id": "b37d7dc1",
   "metadata": {},
   "outputs": [],
   "source": [
    "cm_1_1 = confusion_matrix(a_t_y, a_p_y)"
   ]
  },
  {
   "cell_type": "code",
   "execution_count": 58,
   "id": "0ad83b9e",
   "metadata": {},
   "outputs": [
    {
     "data": {
      "text/plain": [
       "array([[1101,  429],\n",
       "       [ 632,  893]], dtype=int64)"
      ]
     },
     "execution_count": 58,
     "metadata": {},
     "output_type": "execute_result"
    }
   ],
   "source": [
    "cm_1_1"
   ]
  },
  {
   "cell_type": "code",
   "execution_count": 59,
   "id": "ed7d32e1",
   "metadata": {},
   "outputs": [
    {
     "name": "stdout",
     "output_type": "stream",
     "text": [
      "recall: 0.635314 | precision: 0.719608 | f1_score: 0.674839\n"
     ]
    }
   ],
   "source": [
    "evaluate(cm_1_1)"
   ]
  },
  {
   "cell_type": "markdown",
   "id": "53b728ec",
   "metadata": {},
   "source": [
    "### Test: #2\n",
    "I will use 10000 iterations and learning rate equales to 2"
   ]
  },
  {
   "cell_type": "code",
   "execution_count": 60,
   "id": "4c2602f7",
   "metadata": {},
   "outputs": [
    {
     "name": "stdout",
     "output_type": "stream",
     "text": [
      "Cost after iteration 0: 0.6931565983183068\n",
      "Cost after iteration 1000: 0.6915855317363986\n",
      "Cost after iteration 2000: 0.6887815161527955\n",
      "Cost after iteration 3000: 0.6755041571808927\n",
      "Cost after iteration 4000: 1.0711669605176042\n",
      "Cost after iteration 5000: 0.6648674924442884\n",
      "Cost after iteration 6000: 0.653765493740741\n",
      "Cost after iteration 7000: 0.6479878615318758\n",
      "Cost after iteration 8000: 0.6430342383392255\n",
      "Cost after iteration 9000: 0.6449935350810196\n",
      "Cost after iteration 9999: 0.693124655403622\n"
     ]
    }
   ],
   "source": [
    "# Build a model with a n_h-dimensional hidden layer\n",
    "parameters, costs = nn_model(train_set_x, train_set_y, n_h = 20, num_iterations = 10000, print_cost=True,learning_rate=2)\n"
   ]
  },
  {
   "cell_type": "code",
   "execution_count": 61,
   "id": "4fcd0140",
   "metadata": {},
   "outputs": [
    {
     "data": {
      "image/png": "[encoded data removed]",
      "text/plain": [
       "<Figure size 432x288 with 1 Axes>"
      ]
     },
     "metadata": {
      "needs_background": "light"
     },
     "output_type": "display_data"
    }
   ],
   "source": [
    "costs_plot(costs,2)"
   ]
  },
  {
   "cell_type": "code",
   "execution_count": 62,
   "id": "e7990f9a",
   "metadata": {},
   "outputs": [
    {
     "name": "stdout",
     "output_type": "stream",
     "text": [
      "train accuracy: 50.638298%\n",
      "test accuracy: 49.165849%\n"
     ]
    }
   ],
   "source": [
    "# Print accuracy\n",
    "predictions_train = predict(parameters, train_set_x)\n",
    "predictions_test = predict(parameters, test_set_x)\n",
    "print ('train accuracy: %f' % float((np.dot(train_set_y, predictions_train.T) + np.dot(1 - train_set_y, 1 - predictions_train.T)) / float(train_set_y.size) * 100) + '%')\n",
    "print ('test accuracy: %f' % float((np.dot(test_set_y, predictions_test.T) + np.dot(1 - test_set_y, 1 - predictions_test.T)) / float(test_set_y.size) * 100) + '%')"
   ]
  },
  {
   "cell_type": "code",
   "execution_count": 63,
   "id": "1d822a10",
   "metadata": {},
   "outputs": [],
   "source": [
    "#lets reshape the training set of Y and predictio set Y, so we can use it in the confusion matrix\n",
    "a_t_y = np.reshape(train_set_y,(train_set_y.shape[1],)) \n",
    "a_p_y = np.reshape(predictions_train, (predictions_train.shape[1],))"
   ]
  },
  {
   "cell_type": "code",
   "execution_count": 64,
   "id": "349b82eb",
   "metadata": {},
   "outputs": [],
   "source": [
    "cm_1_2 = confusion_matrix(a_t_y, a_p_y)"
   ]
  },
  {
   "cell_type": "code",
   "execution_count": 65,
   "id": "0a4ea310",
   "metadata": {},
   "outputs": [
    {
     "name": "stdout",
     "output_type": "stream",
     "text": [
      "recall: 0.503909 | precision: 0.926797 | f1_score: 0.652855\n"
     ]
    }
   ],
   "source": [
    "evaluate(cm_1_2)"
   ]
  },
  {
   "cell_type": "markdown",
   "id": "c8acfc54",
   "metadata": {},
   "source": [
    "### Test: #3\n",
    "I will use 20000 iterations and learning rate equals to 2"
   ]
  },
  {
   "cell_type": "code",
   "execution_count": 66,
   "id": "8904f49f",
   "metadata": {},
   "outputs": [
    {
     "name": "stdout",
     "output_type": "stream",
     "text": [
      "Cost after iteration 0: 0.6931565983183068\n",
      "Cost after iteration 1000: 0.6915855317363986\n",
      "Cost after iteration 2000: 0.6887815161527955\n",
      "Cost after iteration 3000: 0.6755041571808927\n",
      "Cost after iteration 4000: 1.0711669605176042\n",
      "Cost after iteration 5000: 0.6648674924442884\n",
      "Cost after iteration 6000: 0.653765493740741\n",
      "Cost after iteration 7000: 0.6479878615318758\n",
      "Cost after iteration 8000: 0.6430342383392255\n",
      "Cost after iteration 9000: 0.6449935350810196\n",
      "Cost after iteration 10000: 0.6931249715577398\n",
      "Cost after iteration 11000: 0.6931451800992238\n",
      "Cost after iteration 12000: 0.6931451834632361\n",
      "Cost after iteration 13000: 0.6931451872243607\n",
      "Cost after iteration 14000: 0.6931451913039656\n",
      "Cost after iteration 15000: 0.693145195639518\n",
      "Cost after iteration 16000: 0.6931452002222053\n",
      "Cost after iteration 17000: 0.6931452051227743\n",
      "Cost after iteration 18000: 0.6931452104967064\n",
      "Cost after iteration 19000: 0.6931452165666442\n",
      "Cost after iteration 19999: 0.6931452235832847\n"
     ]
    }
   ],
   "source": [
    "# Build a model with a n_h-dimensional hidden layer\n",
    "parameters, costs = nn_model(train_set_x, train_set_y, n_h = 20, num_iterations = 20000, print_cost=True,learning_rate=2)\n"
   ]
  },
  {
   "cell_type": "code",
   "execution_count": 67,
   "id": "170e165a",
   "metadata": {},
   "outputs": [
    {
     "data": {
      "image/png": "[encoded data removed]",
      "text/plain": [
       "<Figure size 432x288 with 1 Axes>"
      ]
     },
     "metadata": {
      "needs_background": "light"
     },
     "output_type": "display_data"
    }
   ],
   "source": [
    "costs_plot(costs,2)"
   ]
  },
  {
   "cell_type": "code",
   "execution_count": 68,
   "id": "4ea35fc5",
   "metadata": {},
   "outputs": [
    {
     "name": "stdout",
     "output_type": "stream",
     "text": [
      "train accuracy: 50.801964%\n",
      "test accuracy: 49.263984%\n"
     ]
    }
   ],
   "source": [
    "# Print accuracy\n",
    "predictions_train = predict(parameters, train_set_x)\n",
    "predictions_test = predict(parameters, test_set_x)\n",
    "print ('train accuracy: %f' % float((np.dot(train_set_y, predictions_train.T) + np.dot(1 - train_set_y, 1 - predictions_train.T)) / float(train_set_y.size) * 100) + '%')\n",
    "print ('test accuracy: %f' % float((np.dot(test_set_y, predictions_test.T) + np.dot(1 - test_set_y, 1 - predictions_test.T)) / float(test_set_y.size) * 100) + '%')"
   ]
  },
  {
   "cell_type": "code",
   "execution_count": 69,
   "id": "bcefcb69",
   "metadata": {},
   "outputs": [],
   "source": [
    "#lets reshape the training set of Y and predictio set Y, so we can use it in the confusion matrix\n",
    "a_t_y = np.reshape(train_set_y,(train_set_y.shape[1],)) \n",
    "a_p_y = np.reshape(predictions_train, (predictions_train.shape[1],))"
   ]
  },
  {
   "cell_type": "code",
   "execution_count": 70,
   "id": "cca08201",
   "metadata": {},
   "outputs": [],
   "source": [
    "cm_1_3 = confusion_matrix(a_t_y, a_p_y)"
   ]
  },
  {
   "cell_type": "code",
   "execution_count": 71,
   "id": "8d40327c",
   "metadata": {},
   "outputs": [
    {
     "name": "stdout",
     "output_type": "stream",
     "text": [
      "recall: 0.504722 | precision: 0.943137 | f1_score: 0.657553\n"
     ]
    }
   ],
   "source": [
    "evaluate(cm_1_3)"
   ]
  },
  {
   "cell_type": "markdown",
   "id": "d5556fbd",
   "metadata": {},
   "source": [
    "### Dicussing the results\n",
    "As we can see, the algorithm is working well in terms of implementing different functions of the model. Concerning the evaluation part, we can clearly see there is an improvement related to the fact of changing some parameters such as number of iteration and / or learning rate. So, to make the model works perfectly, we need to do an optimization process based on the hyperparameters. Unfortunately, I will not focus on the optimization part in this project, but I may work on it in the future. "
   ]
  },
  {
   "cell_type": "markdown",
   "id": "c0bf64dd",
   "metadata": {},
   "source": [
    "## Bank Churn using Multiple Hidden Layers"
   ]
  },
  {
   "cell_type": "markdown",
   "id": "734e0c5e",
   "metadata": {},
   "source": [
    "In this part, I will build a deep neural network with as many layers as you want!\n",
    "\n",
    "- In the following, I will implement all the functions required to build a deep neural network.\n",
    "\n",
    "**By the end of this part, I will be able to:**\n",
    "\n",
    "- Use non-linear units like ReLU to improve your model\n",
    "- Build a deeper neural network (with more than 1 hidden layer)\n",
    "- Implement an easy-to-use neural network class\n",
    "\n",
    "**Notation**:\n",
    "- Superscript $[l]$ denotes a quantity associated with the $l^{th}$ layer. \n",
    "    - Example: $a^{[L]}$ is the $L^{th}$ layer activation. $W^{[L]}$ and $b^{[L]}$ are the $L^{th}$ layer parameters.\n",
    "- Superscript $(i)$ denotes a quantity associated with the $i^{th}$ example. \n",
    "    - Example: $x^{(i)}$ is the $i^{th}$ training example.\n",
    "- Lowerscript $i$ denotes the $i^{th}$ entry of a vector.\n",
    "    - Example: $a^{[l]}_i$ denotes the $i^{th}$ entry of the $l^{th}$ layer's activations).\n"
   ]
  },
  {
   "cell_type": "markdown",
   "id": "2c80b877",
   "metadata": {},
   "source": [
    "<a name='2'></a>\n",
    "## 2 - Outline\n",
    "\n",
    "To build a neural network, I will be implementing several \"helper functions.\" These helper functions will be used to build an L-layer neural network. \n",
    "\n",
    "Each small helper function will have detailed instructions. Here's an outline of the steps in this assignment:\n",
    "\n",
    "- Initialize the parameters for a two-layer network and for an $L$-layer neural network\n",
    "- Implement the forward propagation module (shown in purple in the figure below)\n",
    "     - Complete the LINEAR part of a layer's forward propagation step (resulting in $Z^{[l]}$).\n",
    "     - The ACTIVATION function is provided for you (relu/sigmoid)\n",
    "     - Combine the previous two steps into a new [LINEAR->ACTIVATION] forward function.\n",
    "     - Stack the [LINEAR->RELU] forward function L-1 time (for layers 1 through L-1) and add a [LINEAR->SIGMOID] at the end (for the final layer $L$). This gives you a new L_model_forward function.\n",
    "- Compute the loss\n",
    "- Implement the backward propagation module (denoted in red in the figure below)\n",
    "    - Complete the LINEAR part of a layer's backward propagation step\n",
    "    - The gradient of the ACTIVATE function is provided for you(relu_backward/sigmoid_backward) \n",
    "    - Combine the previous two steps into a new [LINEAR->ACTIVATION] backward function\n",
    "    - Stack [LINEAR->RELU] backward L-1 times and add [LINEAR->SIGMOID] backward in a new L_model_backward function\n",
    "- Finally, update the parameters\n",
    "\n",
    "<img src=\"./final outline.png\" style=\"width:800px;height:500px;\">\n",
    "<caption><center><b>Figure 1</b></center></caption><br>\n",
    "\n",
    "\n",
    "**Note**:\n",
    "\n",
    "For every forward function, there is a corresponding backward function. This is why at every step of your forward module you will be storing some values in a cache. These cached values are useful for computing gradients. \n",
    "\n",
    "In the backpropagation module, you can then use the cache to calculate the gradients. Don't worry, this assignment will show you exactly how to carry out each of these steps! "
   ]
  },
  {
   "cell_type": "markdown",
   "id": "e4506953",
   "metadata": {},
   "source": [
    "<a name='3'></a>\n",
    "## 3 - Initialization\n",
    "\n",
    "I will write a helper function to initialize the parameters for the model. \n",
    "<a name='3-2'></a>\n",
    "### 3.2 - L-layer Neural Network\n",
    "\n",
    "The initialization for a deeper L-layer neural network is more complicated because there are many more weight matrices and bias vectors. When completing the `initialize_parameters_deep` function, you should make sure that your dimensions match between each layer. Recall that $n^{[l]}$ is the number of units in layer $l$. For example, if the size of your input $X$ is $(12288, 209)$ (with $m=209$ examples) then:\n",
    "\n",
    "<table style=\"width:100%\">\n",
    "    <tr>\n",
    "        <td>  </td> \n",
    "        <td> <b>Shape of W</b> </td> \n",
    "        <td> <b>Shape of b</b>  </td> \n",
    "        <td> <b>Activation</b> </td>\n",
    "        <td> <b>Shape of Activation</b> </td> \n",
    "    <tr>\n",
    "    <tr>\n",
    "        <td> <b>Layer 1</b> </td> \n",
    "        <td> $(n^{[1]},12288)$ </td> \n",
    "        <td> $(n^{[1]},1)$ </td> \n",
    "        <td> $Z^{[1]} = W^{[1]}  X + b^{[1]} $ </td> \n",
    "        <td> $(n^{[1]},209)$ </td> \n",
    "    <tr>\n",
    "    <tr>\n",
    "        <td> <b>Layer 2</b> </td> \n",
    "        <td> $(n^{[2]}, n^{[1]})$  </td> \n",
    "        <td> $(n^{[2]},1)$ </td> \n",
    "        <td>$Z^{[2]} = W^{[2]} A^{[1]} + b^{[2]}$ </td> \n",
    "        <td> $(n^{[2]}, 209)$ </td> \n",
    "    <tr>\n",
    "       <tr>\n",
    "        <td> $\\vdots$ </td> \n",
    "        <td> $\\vdots$  </td> \n",
    "        <td> $\\vdots$  </td> \n",
    "        <td> $\\vdots$</td> \n",
    "        <td> $\\vdots$  </td> \n",
    "    <tr>  \n",
    "   <tr>\n",
    "       <td> <b>Layer L-1</b> </td> \n",
    "        <td> $(n^{[L-1]}, n^{[L-2]})$ </td> \n",
    "        <td> $(n^{[L-1]}, 1)$  </td> \n",
    "        <td>$Z^{[L-1]} =  W^{[L-1]} A^{[L-2]} + b^{[L-1]}$ </td> \n",
    "        <td> $(n^{[L-1]}, 209)$ </td> \n",
    "   <tr>\n",
    "   <tr>\n",
    "       <td> <b>Layer L</b> </td> \n",
    "        <td> $(n^{[L]}, n^{[L-1]})$ </td> \n",
    "        <td> $(n^{[L]}, 1)$ </td>\n",
    "        <td> $Z^{[L]} =  W^{[L]} A^{[L-1]} + b^{[L]}$</td>\n",
    "        <td> $(n^{[L]}, 209)$  </td> \n",
    "    <tr>\n",
    "</table>\n",
    "\n",
    "Remember that when you compute $W X + b$ in python, it carries out broadcasting. For example, if: \n",
    "\n",
    "$$ W = \\begin{bmatrix}\n",
    "    w_{00}  & w_{01} & w_{02} \\\\\n",
    "    w_{10}  & w_{11} & w_{12} \\\\\n",
    "    w_{20}  & w_{21} & w_{22} \n",
    "\\end{bmatrix}\\;\\;\\; X = \\begin{bmatrix}\n",
    "    x_{00}  & x_{01} & x_{02} \\\\\n",
    "    x_{10}  & x_{11} & x_{12} \\\\\n",
    "    x_{20}  & x_{21} & x_{22} \n",
    "\\end{bmatrix} \\;\\;\\; b =\\begin{bmatrix}\n",
    "    b_0  \\\\\n",
    "    b_1  \\\\\n",
    "    b_2\n",
    "\\end{bmatrix}\\tag{2}$$\n",
    "\n",
    "Then $WX + b$ will be:\n",
    "\n",
    "$$ WX + b = \\begin{bmatrix}\n",
    "    (w_{00}x_{00} + w_{01}x_{10} + w_{02}x_{20}) + b_0 & (w_{00}x_{01} + w_{01}x_{11} + w_{02}x_{21}) + b_0 & \\cdots \\\\\n",
    "    (w_{10}x_{00} + w_{11}x_{10} + w_{12}x_{20}) + b_1 & (w_{10}x_{01} + w_{11}x_{11} + w_{12}x_{21}) + b_1 & \\cdots \\\\\n",
    "    (w_{20}x_{00} + w_{21}x_{10} + w_{22}x_{20}) + b_2 &  (w_{20}x_{01} + w_{21}x_{11} + w_{22}x_{21}) + b_2 & \\cdots\n",
    "\\end{bmatrix}\\tag{3}  $$\n"
   ]
  },
  {
   "cell_type": "markdown",
   "id": "f429b467",
   "metadata": {},
   "source": [
    "<a name='ex-2'></a>\n",
    "### -  initialize_parameters_deep\n",
    "\n",
    "Implement initialization for an L-layer Neural Network. \n",
    "\n",
    "**Instructions**:\n",
    "- The model's structure is *[LINEAR -> RELU] $ \\times$ (L-1) -> LINEAR -> SIGMOID*. I.e., it has $L-1$ layers using a ReLU activation function followed by an output layer with a sigmoid activation function.\n",
    "- Use random initialization for the weight matrices. Use `np.random.randn(d0, d1, ..., dn) * 0.01`.\n",
    "- Use zeros initialization for the biases. Use `np.zeros(shape)`.\n",
    "- You'll store $n^{[l]}$, the number of units in different layers, in a variable `layer_dims`. For example, the `layer_dims` for last week's Planar Data classification model would have been [2,4,1]: There were two inputs, one hidden layer with 4 hidden units, and an output layer with 1 output unit. This means `W1`'s shape was (4,2), `b1` was (4,1), `W2` was (1,4) and `b2` was (1,1). Now you will generalize this to $L$ layers! \n",
    "- Here is the implementation for $L=1$ (one layer neural network). It should inspire you to implement the general case (L-layer neural network).\n",
    "```python\n",
    "    if L == 1:\n",
    "        parameters[\"W\" + str(L)] = np.random.randn(layer_dims[1], layer_dims[0]) * 0.01\n",
    "        parameters[\"b\" + str(L)] = np.zeros((layer_dims[1], 1))\n",
    "```"
   ]
  },
  {
   "cell_type": "code",
   "execution_count": 72,
   "id": "3d235f01",
   "metadata": {},
   "outputs": [],
   "source": [
    "#FUNCTION: initialize_parameters_deep\n",
    "\n",
    "def initialize_parameters_deep(layer_dims):\n",
    "    \"\"\"\n",
    "    Arguments:\n",
    "    layer_dims -- python array (list) containing the dimensions of each layer in our network\n",
    "    \n",
    "    Returns:\n",
    "    parameters -- python dictionary containing your parameters \"W1\", \"b1\", ..., \"WL\", \"bL\":\n",
    "                    Wl -- weight matrix of shape (layer_dims[l], layer_dims[l-1])\n",
    "                    bl -- bias vector of shape (layer_dims[l], 1)\n",
    "    \"\"\"\n",
    "    \n",
    "    np.random.seed(3)\n",
    "    parameters = {}\n",
    "    L = len(layer_dims) # number of layers in the network\n",
    "\n",
    "    for l in range(1, L):\n",
    "        parameters['W' + str(l)] = np.random.randn(layer_dims[l],layer_dims[l-1])*0.01\n",
    "        parameters['b' + str(l)] = np.zeros((layer_dims[l],1))\n",
    "        \n",
    "        \n",
    "        assert(parameters['W' + str(l)].shape == (layer_dims[l], layer_dims[l - 1]))\n",
    "        assert(parameters['b' + str(l)].shape == (layer_dims[l], 1))\n",
    "\n",
    "        \n",
    "    return parameters"
   ]
  },
  {
   "cell_type": "markdown",
   "id": "f95b7e27",
   "metadata": {},
   "source": [
    "<a name='4'></a>\n",
    "## - Forward Propagation Module\n",
    "\n",
    "<a name='4-1'></a>\n",
    "### - Linear Forward \n",
    "\n",
    "Now that I have initialized the parameters, I can do the forward propagation module. Start by implementing some basic functions that you can use again later when implementing the model. Now, you'll complete three functions in this order:\n",
    "\n",
    "- LINEAR\n",
    "- LINEAR -> ACTIVATION where ACTIVATION will be either ReLU or Sigmoid. \n",
    "- [LINEAR -> RELU] $\\times$ (L-1) -> LINEAR -> SIGMOID (whole model)\n",
    "\n",
    "The linear forward module (vectorized over all the examples) computes the following equations:\n",
    "\n",
    "$$Z^{[l]} = W^{[l]}A^{[l-1]} +b^{[l]}\\tag{4}$$\n",
    "\n",
    "where $A^{[0]} = X$. \n",
    "\n",
    "<a name='ex-3'></a>\n",
    "### - linear_forward \n",
    "\n",
    "Build the linear part of forward propagation.\n",
    "\n",
    "**Reminder**:\n",
    "The mathematical representation of this unit is $Z^{[l]} = W^{[l]}A^{[l-1]} +b^{[l]}$. You may also find `np.dot()` useful. If your dimensions don't match, printing `W.shape` may help."
   ]
  },
  {
   "cell_type": "code",
   "execution_count": 73,
   "id": "f2b57020",
   "metadata": {},
   "outputs": [],
   "source": [
    "#FUNCTION: linear_forward\n",
    "\n",
    "def linear_forward(A, W, b):\n",
    "    \"\"\"\n",
    "    Implement the linear part of a layer's forward propagation.\n",
    "\n",
    "    Arguments:\n",
    "    A -- activations from previous layer (or input data): (size of previous layer, number of examples)\n",
    "    W -- weights matrix: numpy array of shape (size of current layer, size of previous layer)\n",
    "    b -- bias vector, numpy array of shape (size of the current layer, 1)\n",
    "\n",
    "    Returns:\n",
    "    Z -- the input of the activation function, also called pre-activation parameter \n",
    "    cache -- a python tuple containing \"A\", \"W\" and \"b\" ; stored for computing the backward pass efficiently\n",
    "    \"\"\"\n",
    "    \n",
    "  \n",
    "    Z = np.dot(W,A) + b\n",
    "    cache = (A, W, b)\n",
    "    \n",
    "    return Z, cache"
   ]
  },
  {
   "cell_type": "markdown",
   "id": "230e209a",
   "metadata": {},
   "source": [
    "<a name='4-2'></a>\n",
    "### - Linear-Activation Forward\n",
    "\n",
    "In this part of the project, I will use two activation functions:\n",
    "\n",
    "- **Sigmoid**: $\\sigma(Z) = \\sigma(W A + b) = \\frac{1}{ 1 + e^{-(W A + b)}}$. You've been provided with the `sigmoid` function which returns **two** items: the activation value \"`a`\" and a \"`cache`\" that contains \"`Z`\" (it's what we will feed in to the corresponding backward function). To use it you could just call: \n",
    "``` python\n",
    "A, activation_cache = sigmoid(Z)\n",
    "```\n",
    "\n",
    "- **ReLU**: The mathematical formula for ReLu is $A = RELU(Z) = max(0, Z)$. You've been provided with the `relu` function. This function returns **two** items: the activation value \"`A`\" and a \"`cache`\" that contains \"`Z`\" (it's what you'll feed in to the corresponding backward function). To use it you could just call:\n",
    "``` python\n",
    "A, activation_cache = relu(Z)\n",
    "```"
   ]
  },
  {
   "cell_type": "markdown",
   "id": "b509a8aa",
   "metadata": {},
   "source": [
    "For added convenience, you're going to group two functions (Linear and Activation) into one function (LINEAR->ACTIVATION). Hence, you'll implement a function that does the LINEAR forward step, followed by an ACTIVATION forward step.\n",
    "\n",
    "<a name='ex-4'></a>\n",
    "### - linear_activation_forward\n",
    "\n",
    "Implement the forward propagation of the *LINEAR->ACTIVATION* layer. Mathematical relation is: $A^{[l]} = g(Z^{[l]}) = g(W^{[l]}A^{[l-1]} +b^{[l]})$ where the activation \"g\" can be sigmoid() or relu(). Use `linear_forward()` and the correct activation function."
   ]
  },
  {
   "cell_type": "code",
   "execution_count": 74,
   "id": "3c29b9dd",
   "metadata": {},
   "outputs": [],
   "source": [
    "#Function: Relu\n",
    "def relu(Z):\n",
    "    A = np.maximum(0, Z)\n",
    "    return A, Z"
   ]
  },
  {
   "cell_type": "code",
   "execution_count": 75,
   "id": "10498859",
   "metadata": {},
   "outputs": [],
   "source": [
    "def sigmoid_l(Z):\n",
    "    A = 1 / (1 + np.exp(-Z))\n",
    "    return A, Z"
   ]
  },
  {
   "cell_type": "code",
   "execution_count": 76,
   "id": "38b95056",
   "metadata": {},
   "outputs": [],
   "source": [
    "#FUNCTION: linear_activation_forward\n",
    "\n",
    "def linear_activation_forward(A_prev, W, b, activation):\n",
    "    \"\"\"\n",
    "    Implement the forward propagation for the LINEAR->ACTIVATION layer\n",
    "\n",
    "    Arguments:\n",
    "    A_prev -- activations from previous layer (or input data): (size of previous layer, number of examples)\n",
    "    W -- weights matrix: numpy array of shape (size of current layer, size of previous layer)\n",
    "    b -- bias vector, numpy array of shape (size of the current layer, 1)\n",
    "    activation -- the activation to be used in this layer, stored as a text string: \"sigmoid\" or \"relu\"\n",
    "\n",
    "    Returns:\n",
    "    A -- the output of the activation function, also called the post-activation value \n",
    "    cache -- a python tuple containing \"linear_cache\" and \"activation_cache\";\n",
    "             stored for computing the backward pass efficiently\n",
    "    \"\"\"\n",
    "    \n",
    "    if activation == \"sigmoid\":\n",
    "        Z, linear_cache = linear_forward(A_prev,W,b)\n",
    "        A, activation_cache = sigmoid_l(Z)\n",
    "        \n",
    "    \n",
    "    elif activation == \"relu\":\n",
    "        Z, linear_cache = linear_forward(A_prev,W,b)\n",
    "        A, activation_cache = relu(Z)\n",
    "\n",
    "    cache = (linear_cache, activation_cache)\n",
    "\n",
    "    return A, cache"
   ]
  },
  {
   "cell_type": "markdown",
   "id": "d244cb1c",
   "metadata": {},
   "source": [
    "**Note**: In deep learning, the \"[LINEAR->ACTIVATION]\" computation is counted as a single layer in the neural network, not two layers. "
   ]
  },
  {
   "cell_type": "markdown",
   "id": "d4dfb405",
   "metadata": {},
   "source": [
    "<a name='4-3'></a>\n",
    "### - L-Layer Model \n",
    "\n",
    "For even *more* convenience when implementing the $L$-layer Neural Net, you will need a function that replicates the previous one (`linear_activation_forward` with RELU) $L-1$ times, then follows that with one `linear_activation_forward` with SIGMOID.\n",
    "\n",
    "<img src=\"./model_architecture_kiank.png\" style=\"width:600px;height:300px;\">\n",
    "<caption><center> <b>Figure 2</b> : *[LINEAR -> RELU] $\\times$ (L-1) -> LINEAR -> SIGMOID* model</center></caption><br>\n",
    "\n",
    "<a name='ex-5'></a>\n",
    "### -  L_model_forward\n",
    "\n",
    "Implement the forward propagation of the above model.\n",
    "\n",
    "**Instructions**: In the code below, the variable `AL` will denote $A^{[L]} = \\sigma(Z^{[L]}) = \\sigma(W^{[L]} A^{[L-1]} + b^{[L]})$. (This is sometimes also called `Yhat`, i.e., this is $\\hat{Y}$.) \n"
   ]
  },
  {
   "cell_type": "code",
   "execution_count": 77,
   "id": "e9361928",
   "metadata": {},
   "outputs": [],
   "source": [
    "#FUNCTION: L_model_forward\n",
    "\n",
    "def L_model_forward(X, parameters):\n",
    "    \"\"\"\n",
    "    Implement forward propagation for the [LINEAR->RELU]*(L-1)->LINEAR->SIGMOID computation\n",
    "    \n",
    "    Arguments:\n",
    "    X -- data, numpy array of shape (input size, number of examples)\n",
    "    parameters -- output of initialize_parameters_deep()\n",
    "    \n",
    "    Returns:\n",
    "    AL -- activation value from the output (last) layer\n",
    "    caches -- list of caches containing:\n",
    "                every cache of linear_activation_forward() (there are L of them, indexed from 0 to L-1)\n",
    "    \"\"\"\n",
    "\n",
    "    caches = []\n",
    "    A = X\n",
    "    L = len(parameters) // 2                  # number of layers in the neural network\n",
    "    \n",
    "    # Implement [LINEAR -> RELU]*(L-1). Add \"cache\" to the \"caches\" list.\n",
    "    # The for loop starts at 1 because layer 0 is the input\n",
    "    for l in range(1, L):\n",
    "        A_prev = A\n",
    "        A, cache = linear_activation_forward(A_prev, parameters['W' + str(l)], parameters['b' + str(l)],'relu')\n",
    "        caches.append(cache)\n",
    "        \n",
    "    \n",
    "    # Implement LINEAR -> SIGMOID. Add \"cache\" to the \"caches\" list.\n",
    "    AL, cache = linear_activation_forward(A, parameters['W' + str(L)], parameters['b' + str(L)],'sigmoid')\n",
    "    caches.append(cache)\n",
    "    \n",
    "          \n",
    "    return AL, caches"
   ]
  },
  {
   "cell_type": "markdown",
   "id": "b482cc33",
   "metadata": {},
   "source": [
    "<a name='5'></a>\n",
    "## - Cost Function\n",
    "\n",
    "Now I can implement forward and backward propagation! I need to compute the cost, in order to check whether the model is actually learning.\n",
    "\n",
    "<a name='ex-6'></a>\n",
    "### - compute_cost\n",
    "Compute the cross-entropy cost $J$, using the following formula: $$-\\frac{1}{m} \\sum\\limits_{i = 1}^{m} (y^{(i)}\\log\\left(a^{[L] (i)}\\right) + (1-y^{(i)})\\log\\left(1- a^{[L](i)}\\right)) \\tag{7}$$\n"
   ]
  },
  {
   "cell_type": "code",
   "execution_count": 78,
   "id": "c0bf25fa",
   "metadata": {},
   "outputs": [],
   "source": [
    "#FUNCTION: compute_cost\n",
    "\n",
    "def compute_cost(AL, Y):\n",
    "    \"\"\"\n",
    "    Implement the cost function defined by equation (7).\n",
    "\n",
    "    Arguments:\n",
    "    AL -- probability vector corresponding to your label predictions, shape (1, number of examples)\n",
    "    Y -- true \"label\" vector (for example: containing 0 if non-cat, 1 if cat), shape (1, number of examples)\n",
    "\n",
    "    Returns:\n",
    "    cost -- cross-entropy cost\n",
    "    \"\"\"\n",
    "    \n",
    "    m = Y.shape[1]\n",
    "\n",
    "    logprobs = np.multiply(np.log(AL),Y) + np.multiply((1-Y),np.log(1-AL))\n",
    "    cost = - np.sum(logprobs) / m\n",
    "    \n",
    "    \n",
    "    \n",
    "    cost = np.squeeze(cost)      # To make sure your cost's shape is what we expect (e.g. this turns [[17]] into 17).\n",
    "\n",
    "    \n",
    "    return cost"
   ]
  },
  {
   "cell_type": "markdown",
   "id": "3fb5242b",
   "metadata": {},
   "source": [
    "<a name='6'></a>\n",
    "## - Backward Propagation Module\n",
    "\n",
    "Just as I did for the forward propagation, I will implement helper functions for backpropagation. Remember that backpropagation is used to calculate the gradient of the loss function with respect to the parameters. \n",
    "\n",
    "**Reminder**: \n",
    "<img src=\"./backprop_kiank.png\" style=\"width:650px;height:250px;\">\n",
    "<caption><center><font color='purple'><b>Figure 3</b>: Forward and Backward propagation for LINEAR->RELU->LINEAR->SIGMOID <br> <i>The purple blocks represent the forward propagation, and the red blocks represent the backward propagation.</font></center></caption>\n",
    "\n",
    "\n",
    "<!-- \n",
    "For those of you who are experts in calculus (which you don't need to be to do this assignment!), the chain rule of calculus can be used to derive the derivative of the loss $\\mathcal{L}$ with respect to $z^{[1]}$ in a 2-layer network as follows:\n",
    "\n",
    "$$\\frac{d \\mathcal{L}(a^{[2]},y)}{{dz^{[1]}}} = \\frac{d\\mathcal{L}(a^{[2]},y)}{{da^{[2]}}}\\frac{{da^{[2]}}}{{dz^{[2]}}}\\frac{{dz^{[2]}}}{{da^{[1]}}}\\frac{{da^{[1]}}}{{dz^{[1]}}} \\tag{8} $$\n",
    "\n",
    "In order to calculate the gradient $dW^{[1]} = \\frac{\\partial L}{\\partial W^{[1]}}$, use the previous chain rule and you do $dW^{[1]} = dz^{[1]} \\times \\frac{\\partial z^{[1]} }{\\partial W^{[1]}}$. During backpropagation, at each step you multiply your current gradient by the gradient corresponding to the specific layer to get the gradient you wanted.\n",
    "\n",
    "Equivalently, in order to calculate the gradient $db^{[1]} = \\frac{\\partial L}{\\partial b^{[1]}}$, you use the previous chain rule and you do $db^{[1]} = dz^{[1]} \\times \\frac{\\partial z^{[1]} }{\\partial b^{[1]}}$.\n",
    "\n",
    "This is why we talk about **backpropagation**.\n",
    "!-->\n",
    "\n",
    "Now, similarly to forward propagation, I am going to build the backward propagation in three steps:\n",
    "1. LINEAR backward\n",
    "2. LINEAR -> ACTIVATION backward where ACTIVATION computes the derivative of either the ReLU or sigmoid activation\n",
    "3. [LINEAR -> RELU] $\\times$ (L-1) -> LINEAR -> SIGMOID backward (whole model)"
   ]
  },
  {
   "cell_type": "markdown",
   "id": "afc60c03",
   "metadata": {},
   "source": [
    "<a name='6-1'></a>\n",
    "### - Linear Backward\n",
    "\n",
    "For layer $l$, the linear part is: $Z^{[l]} = W^{[l]} A^{[l-1]} + b^{[l]}$ (followed by an activation).\n",
    "\n",
    "Suppose I have already calculated the derivative $dZ^{[l]} = \\frac{\\partial \\mathcal{L} }{\\partial Z^{[l]}}$. You want to get $(dW^{[l]}, db^{[l]}, dA^{[l-1]})$.\n",
    "\n",
    "<img src=\"./linearback_kiank.png\" style=\"width:250px;height:300px;\">\n",
    "<caption><center><font color='purple'><b>Figure 4</b></font></center></caption>\n",
    "\n",
    "The three outputs $(dW^{[l]}, db^{[l]}, dA^{[l-1]})$ are computed using the input $dZ^{[l]}$.\n",
    "\n",
    "Here are the formulas you need:\n",
    "$$ dW^{[l]} = \\frac{\\partial \\mathcal{J} }{\\partial W^{[l]}} = \\frac{1}{m} dZ^{[l]} A^{[l-1] T} \\tag{8}$$\n",
    "$$ db^{[l]} = \\frac{\\partial \\mathcal{J} }{\\partial b^{[l]}} = \\frac{1}{m} \\sum_{i = 1}^{m} dZ^{[l](i)}\\tag{9}$$\n",
    "$$ dA^{[l-1]} = \\frac{\\partial \\mathcal{L} }{\\partial A^{[l-1]}} = W^{[l] T} dZ^{[l]} \\tag{10}$$\n",
    "\n",
    "\n",
    "$A^{[l-1] T}$ is the transpose of $A^{[l-1]}$. "
   ]
  },
  {
   "cell_type": "markdown",
   "id": "b096d571",
   "metadata": {},
   "source": [
    "<a name='ex-7'></a>\n",
    "### - linear_backward \n",
    "\n",
    "Use the 3 formulas above to implement `linear_backward()`."
   ]
  },
  {
   "cell_type": "code",
   "execution_count": 79,
   "id": "1da1bc83",
   "metadata": {},
   "outputs": [],
   "source": [
    "#FUNCTION: linear_backward\n",
    "\n",
    "def linear_backward(dZ, cache):\n",
    "    \"\"\"\n",
    "    Implement the linear portion of backward propagation for a single layer (layer l)\n",
    "\n",
    "    Arguments:\n",
    "    dZ -- Gradient of the cost with respect to the linear output (of current layer l)\n",
    "    cache -- tuple of values (A_prev, W, b) coming from the forward propagation in the current layer\n",
    "\n",
    "    Returns:\n",
    "    dA_prev -- Gradient of the cost with respect to the activation (of the previous layer l-1), same shape as A_prev\n",
    "    dW -- Gradient of the cost with respect to W (current layer l), same shape as W\n",
    "    db -- Gradient of the cost with respect to b (current layer l), same shape as b\n",
    "    \"\"\"\n",
    "    A_prev, W, b = cache\n",
    "    m = A_prev.shape[1]\n",
    "\n",
    "    dW = (1/m)*np.dot(dZ,A_prev.T)\n",
    "    db = (1/m)*np.sum(dZ,axis=1,keepdims=True)\n",
    "    dA_prev = np.dot(W.T,dZ)\n",
    "    \n",
    "    \n",
    "    return dA_prev, dW, db"
   ]
  },
  {
   "cell_type": "markdown",
   "id": "29a204f7",
   "metadata": {},
   "source": [
    "<a name='6-2'></a>\n",
    "### - Linear-Activation Backward\n",
    "\n",
    "Next, I will create a function that merges the two helper functions: **`linear_backward`** and the backward step for the activation **`linear_activation_backward`**. \n",
    "\n",
    "To help you implement `linear_activation_backward`, two backward functions have been provided:\n",
    "- **`sigmoid_backward`**: Implements the backward propagation for SIGMOID unit. You can call it as follows:\n",
    "\n",
    "```python\n",
    "dZ = sigmoid_backward(dA, activation_cache)\n",
    "```\n",
    "\n",
    "- **`relu_backward`**: Implements the backward propagation for RELU unit. You can call it as follows:\n",
    "\n",
    "```python\n",
    "dZ = relu_backward(dA, activation_cache)\n",
    "```\n",
    "\n",
    "If $g(.)$ is the activation function, \n",
    "`sigmoid_backward` and `relu_backward` compute $$dZ^{[l]} = dA^{[l]} * g'(Z^{[l]}). \\tag{11}$$  \n",
    "\n",
    "<a name='ex-8'></a>\n",
    "### -  linear_activation_backward\n",
    "\n",
    "Implement the backpropagation for the *LINEAR->ACTIVATION* layer."
   ]
  },
  {
   "cell_type": "code",
   "execution_count": 80,
   "id": "98761de4",
   "metadata": {},
   "outputs": [],
   "source": [
    "def sigmoid_backward(dA, cache):\n",
    "    \"\"\"\n",
    "    The backward propagation for a single SIGMOID unit.\n",
    "    Arguments:\n",
    "    dA - post-activation gradient, of any shape\n",
    "    cache - 'Z' where we store for computing backward propagation efficiently\n",
    "    Returns:\n",
    "    dZ - Gradient of the cost with respect to Z\n",
    "    \"\"\"\n",
    "    Z = cache \n",
    "    s = 1/(1+np.exp(-Z))\n",
    "    dZ = dA * s * (1-s)\n",
    "    return dZ\n"
   ]
  },
  {
   "cell_type": "code",
   "execution_count": 81,
   "id": "7231a041",
   "metadata": {},
   "outputs": [],
   "source": [
    "def relu_backward(dA, cache):\n",
    "    \"\"\"\n",
    "    The backward propagation for a single RELU unit.\n",
    "    Arguments:\n",
    "    dA - post-activation gradient, of any shape\n",
    "    cache - 'Z' where we store for computing backward propagation efficiently\n",
    "    Returns:\n",
    "    dZ - Gradient of the cost with respect to Z\n",
    "    \"\"\"\n",
    "    Z = cache\n",
    "    # just converting dz to a correct object.\n",
    "    dZ = np.array(dA, copy=True)\n",
    "    # When z <= 0, we should set dz to 0 as well. \n",
    "    dZ[Z <= 0] = 0\n",
    "    return dZ"
   ]
  },
  {
   "cell_type": "code",
   "execution_count": 82,
   "id": "15130d61",
   "metadata": {},
   "outputs": [],
   "source": [
    "#FUNCTION: linear_activation_backward\n",
    "\n",
    "def linear_activation_backward(dA, cache, activation):\n",
    "    \"\"\"\n",
    "    Implement the backward propagation for the LINEAR->ACTIVATION layer.\n",
    "    \n",
    "    Arguments:\n",
    "    dA -- post-activation gradient for current layer l \n",
    "    cache -- tuple of values (linear_cache, activation_cache) we store for computing backward propagation efficiently\n",
    "    activation -- the activation to be used in this layer, stored as a text string: \"sigmoid\" or \"relu\"\n",
    "    \n",
    "    Returns:\n",
    "    dA_prev -- Gradient of the cost with respect to the activation (of the previous layer l-1), same shape as A_prev\n",
    "    dW -- Gradient of the cost with respect to W (current layer l), same shape as W\n",
    "    db -- Gradient of the cost with respect to b (current layer l), same shape as b\n",
    "    \"\"\"\n",
    "    linear_cache, activation_cache = cache\n",
    "    \n",
    "    if activation == \"relu\":\n",
    "        dZ = relu_backward(dA, activation_cache)\n",
    "        dA_prev, dW, db = linear_backward(dZ, linear_cache)\n",
    "        \n",
    "    elif activation == \"sigmoid\":\n",
    "        dZ = sigmoid_backward(dA, activation_cache)\n",
    "        dA_prev, dW, db = linear_backward(dZ, linear_cache)\n",
    "        \n",
    "    return dA_prev, dW, db"
   ]
  },
  {
   "cell_type": "markdown",
   "id": "23f3df35",
   "metadata": {},
   "source": [
    "<a name='6-3'></a>\n",
    "### - L-Model Backward \n",
    "\n",
    "Now I will implement the backward function for the whole network! \n",
    "\n",
    "Recall that when you implemented the `L_model_forward` function, at each iteration, you stored a cache which contains (X,W,b, and z). In the back propagation module, you'll use those variables to compute the gradients. Therefore, in the `L_model_backward` function, you'll iterate through all the hidden layers backward, starting from layer $L$. On each step, you will use the cached values for layer $l$ to backpropagate through layer $l$. Figure 5 below shows the backward pass. \n",
    "\n",
    "\n",
    "<img src=\"./mn_backward.png\" style=\"width:450px;height:300px;\">\n",
    "<caption><center><font color='purple'><b>Figure 5</b>: Backward pass</font></center></caption>\n",
    "\n",
    "**Initializing backpropagation**:\n",
    "\n",
    "To backpropagate through this network, you know that the output is: \n",
    "$A^{[L]} = \\sigma(Z^{[L]})$. Your code thus needs to compute `dAL` $= \\frac{\\partial \\mathcal{L}}{\\partial A^{[L]}}$.\n",
    "To do so, use this formula (derived using calculus which, again, you don't need in-depth knowledge of!):\n",
    "```python\n",
    "dAL = - (np.divide(Y, AL) - np.divide(1 - Y, 1 - AL)) # derivative of cost with respect to AL\n",
    "```\n",
    "\n",
    "You can then use this post-activation gradient `dAL` to keep going backward. As seen in Figure 5, you can now feed in `dAL` into the LINEAR->SIGMOID backward function you implemented (which will use the cached values stored by the L_model_forward function). \n",
    "\n",
    "After that, you will have to use a `for` loop to iterate through all the other layers using the LINEAR->RELU backward function. You should store each dA, dW, and db in the grads dictionary. To do so, use this formula : \n",
    "\n",
    "$$grads[\"dW\" + str(l)] = dW^{[l]}\\tag{15} $$\n",
    "\n",
    "For example, for $l=3$ this would store $dW^{[l]}$ in `grads[\"dW3\"]`.\n",
    "\n",
    "<a name='ex-9'></a>\n",
    "### -  L_model_backward\n",
    "\n",
    "Implement backpropagation for the *[LINEAR->RELU] $\\times$ (L-1) -> LINEAR -> SIGMOID* model."
   ]
  },
  {
   "cell_type": "code",
   "execution_count": 83,
   "id": "226450ae",
   "metadata": {},
   "outputs": [],
   "source": [
    "#FUNCTION: L_model_backward\n",
    "\n",
    "def L_model_backward(AL, Y, caches):\n",
    "    \"\"\"\n",
    "    Implement the backward propagation for the [LINEAR->RELU] * (L-1) -> LINEAR -> SIGMOID group\n",
    "    \n",
    "    Arguments:\n",
    "    AL -- probability vector, output of the forward propagation (L_model_forward())\n",
    "    Y -- true \"label\" vector (containing 0 if non-cat, 1 if cat)\n",
    "    caches -- list of caches containing:\n",
    "                every cache of linear_activation_forward() with \"relu\" (it's caches[l], for l in range(L-1) i.e l = 0...L-2)\n",
    "                the cache of linear_activation_forward() with \"sigmoid\" (it's caches[L-1])\n",
    "    \n",
    "    Returns:\n",
    "    grads -- A dictionary with the gradients\n",
    "             grads[\"dA\" + str(l)] = ... \n",
    "             grads[\"dW\" + str(l)] = ...\n",
    "             grads[\"db\" + str(l)] = ... \n",
    "    \"\"\"\n",
    "    grads = {}\n",
    "    L = len(caches) # the number of layers\n",
    "    m = AL.shape[1]\n",
    "    Y = Y.reshape(AL.shape) # after this line, Y is the same shape as AL\n",
    "    \n",
    "    # Initializing the backpropagation\n",
    "    dAL = - (np.divide(Y, AL) - np.divide(1 - Y, 1 - AL))\n",
    "    \n",
    "    # Lth layer (SIGMOID -> LINEAR) gradients. Inputs: \"dAL, current_cache\". Outputs: \"grads[\"dAL-1\"], grads[\"dWL\"], grads[\"dbL\"]\n",
    "    current_cache = caches[L-1]\n",
    "    grads[\"dA\" + str(L-1)], grads[\"dW\" + str(L)], grads[\"db\" + str(L)] = linear_activation_backward(dAL, current_cache, activation = \"sigmoid\")\n",
    "    \n",
    "    # Loop from l=L-2 to l=0\n",
    "    for l in reversed(range(L-1)):\n",
    "        # lth layer: (RELU -> LINEAR) gradients.\n",
    "        # Inputs: \"grads[\"dA\" + str(l + 1)], current_cache\". Outputs: \"grads[\"dA\" + str(l)] , grads[\"dW\" + str(l + 1)] , grads[\"db\" + str(l + 1)] \n",
    "        current_cache = caches[l]\n",
    "        dA_prev_temp, dW_temp, db_temp = linear_activation_backward(grads[\"dA\" + str(l+1)], current_cache, activation = \"relu\")\n",
    "        grads['dA' + str(l)] = dA_prev_temp\n",
    "        grads['dW' + str(l+1)] = dW_temp\n",
    "        grads['db' + str(l+1)] = db_temp\n",
    "        \n",
    "    return grads"
   ]
  },
  {
   "cell_type": "markdown",
   "id": "ff08a7e2",
   "metadata": {},
   "source": [
    "<a name='6-4'></a>\n",
    "### - Update Parameters\n",
    "\n",
    "In this section, I will update the parameters of the model, using gradient descent: \n",
    "\n",
    "$$ W^{[l]} = W^{[l]} - \\alpha \\text{ } dW^{[l]} \\tag{16}$$\n",
    "$$ b^{[l]} = b^{[l]} - \\alpha \\text{ } db^{[l]} \\tag{17}$$\n",
    "\n",
    "where $\\alpha$ is the learning rate. \n",
    "\n",
    "After computing the updated parameters, store them in the parameters dictionary. "
   ]
  },
  {
   "cell_type": "markdown",
   "id": "d567e121",
   "metadata": {},
   "source": [
    "<a name='ex-10'></a>\n",
    "### - update_parameters\n",
    "\n",
    "Implement `update_parameters()` to update your parameters using gradient descent.\n",
    "\n",
    "**Instructions**:\n",
    "Update parameters using gradient descent on every $W^{[l]}$ and $b^{[l]}$ for $l = 1, 2, ..., L$. "
   ]
  },
  {
   "cell_type": "code",
   "execution_count": 84,
   "id": "e1220e83",
   "metadata": {},
   "outputs": [],
   "source": [
    "#FUNCTION: update_parameters\n",
    "\n",
    "def update_parameters(params, grads, learning_rate):\n",
    "    \"\"\"\n",
    "    Update parameters using gradient descent\n",
    "    \n",
    "    Arguments:\n",
    "    params -- python dictionary containing your parameters \n",
    "    grads -- python dictionary containing your gradients, output of L_model_backward\n",
    "    \n",
    "    Returns:\n",
    "    parameters -- python dictionary containing your updated parameters \n",
    "                  parameters[\"W\" + str(l)] = ... \n",
    "                  parameters[\"b\" + str(l)] = ...\n",
    "    \"\"\"\n",
    "    parameters = params.copy()\n",
    "    L = len(parameters) // 2 # number of layers in the neural network\n",
    "\n",
    "    # Update rule for each parameter. Use a for loop.\n",
    "    for l in range(L):\n",
    "        parameters['W'+str(l+1)] = parameters['W'+str(l+1)] - learning_rate*grads['dW'+str(l+1)]\n",
    "        parameters['b'+str(l+1)] = parameters['b'+str(l+1)] - learning_rate*grads['db'+str(l+1)]\n",
    "        \n",
    "    return parameters"
   ]
  },
  {
   "cell_type": "markdown",
   "id": "f35dad62",
   "metadata": {},
   "source": [
    "<a name='ex-2'></a>\n",
    "### - L_layer_model \n",
    "\n",
    "Use the helper functions I implemented previously to build an $L$-layer neural network with the following structure: *[LINEAR -> RELU]$\\times$(L-1) -> LINEAR -> SIGMOID*. The functions and their inputs are:\n",
    "```python\n",
    "def initialize_parameters_deep(layers_dims):\n",
    "    ...\n",
    "    return parameters \n",
    "def L_model_forward(X, parameters):\n",
    "    ...\n",
    "    return AL, caches\n",
    "def compute_cost(AL, Y):\n",
    "    ...\n",
    "    return cost\n",
    "def L_model_backward(AL, Y, caches):\n",
    "    ...\n",
    "    return grads\n",
    "def update_parameters(parameters, grads, learning_rate):\n",
    "    ...\n",
    "    return parameters\n",
    "```"
   ]
  },
  {
   "cell_type": "code",
   "execution_count": 85,
   "id": "0df4aec9",
   "metadata": {},
   "outputs": [],
   "source": [
    "# GRADED FUNCTION: L_layer_model\n",
    "\n",
    "def L_layer_model(X, Y, layers_dims, learning_rate = 5, num_iterations = 5000, print_cost=False):\n",
    "    \"\"\"\n",
    "    Implements a L-layer neural network: [LINEAR->RELU]*(L-1)->LINEAR->SIGMOID.\n",
    "    \n",
    "    Arguments:\n",
    "    X -- data, numpy array of shape (num_px * num_px * 3, number of examples)\n",
    "    Y -- true \"label\" vector (containing 0 if cat, 1 if non-cat), of shape (1, number of examples)\n",
    "    layers_dims -- list containing the input size and each layer size, of length (number of layers + 1).\n",
    "    learning_rate -- learning rate of the gradient descent update rule\n",
    "    num_iterations -- number of iterations of the optimization loop\n",
    "    print_cost -- if True, it prints the cost every 100 steps\n",
    "    \n",
    "    Returns:\n",
    "    parameters -- parameters learnt by the model. They can then be used to predict.\n",
    "    \"\"\"\n",
    "\n",
    "    np.random.seed(1)\n",
    "    costs = []                         # keep track of cost\n",
    "    \n",
    "    # Parameters initialization.\n",
    "    parameters = initialize_parameters_deep(layers_dims)\n",
    "    \n",
    "    \n",
    "    # Loop (gradient descent)\n",
    "    for i in range(0, num_iterations):\n",
    "\n",
    "        # Forward propagation: [LINEAR -> RELU]*(L-1) -> LINEAR -> SIGMOID.\n",
    "        AL, caches = L_model_forward(X, parameters)\n",
    "        \n",
    "        # Compute cost.\n",
    "        cost = compute_cost(AL, Y)\n",
    "        \n",
    "    \n",
    "        # Backward propagation.\n",
    "        grads = L_model_backward(AL, Y, caches)\n",
    "        \n",
    " \n",
    "        # Update parameters.\n",
    "        parameters = update_parameters(parameters, grads, learning_rate)\n",
    "        \n",
    "                \n",
    "        # Print the cost every 100 iterations\n",
    "        if print_cost and i % 1000 == 0 or i == num_iterations - 1:\n",
    "            print(\"Cost after iteration {}: {}\".format(i, np.squeeze(cost)))\n",
    "        if i % 1000 == 0 or i == num_iterations:\n",
    "            costs.append(cost)\n",
    "    \n",
    "    return parameters, costs"
   ]
  },
  {
   "cell_type": "markdown",
   "id": "7896bb83",
   "metadata": {},
   "source": [
    "### - Predict"
   ]
  },
  {
   "cell_type": "code",
   "execution_count": 86,
   "id": "4d890988",
   "metadata": {},
   "outputs": [],
   "source": [
    "#FUNCTION: predict\n",
    "\n",
    "def predict(parameters, X):\n",
    "    \"\"\"\n",
    "    Using the learned parameters, predicts a class for each example in X\n",
    "    \n",
    "    Arguments:\n",
    "    parameters -- python dictionary containing your parameters \n",
    "    X -- input data of size (n_x, m)\n",
    "    \n",
    "    Returns\n",
    "    predictions -- vector of predictions of our model\n",
    "    \"\"\"\n",
    "    AL, cache = L_model_forward(X, parameters)\n",
    "    predictions = np.round(AL)\n",
    "    \n",
    "    return predictions"
   ]
  },
  {
   "cell_type": "markdown",
   "id": "fc8a2543",
   "metadata": {},
   "source": [
    "<a name='5-1'></a>\n",
    "### - Train the model \n",
    "It's time to run the model and see how it performs on a Bank Churn dataset. By running the following code I will test the model with multiple hidden layer of $n_h$ hidden units!. Furthermore, to see how the model performance in different cases, I will run different test by changing the number of iteration, learning rate, number of hidden layer, and number of units in each layer so we can see how those parameters affect on the model training perfermance."
   ]
  },
  {
   "cell_type": "markdown",
   "id": "f4934990",
   "metadata": {},
   "source": [
    "### Test: #1\n",
    "In this test, I will use 4000 iterations, learning rate equales to 2, 2 hidden layers of dims of 20 and 15"
   ]
  },
  {
   "cell_type": "code",
   "execution_count": 87,
   "id": "81c3e8af",
   "metadata": {},
   "outputs": [
    {
     "name": "stdout",
     "output_type": "stream",
     "text": [
      "Cost after iteration 0: 0.6931471851276612\n",
      "Cost after iteration 1000: 0.691785590551995\n",
      "Cost after iteration 2000: 0.660452675315226\n",
      "Cost after iteration 3000: 0.6125166199363477\n",
      "Cost after iteration 3999: 0.5439315714492222\n"
     ]
    }
   ],
   "source": [
    "# 4-layers model\n",
    "parameters, costs = L_layer_model(train_set_x, train_set_y, layers_dims=[train_set_x.shape[0],20,15,1], learning_rate=2,num_iterations = 4000, print_cost = True)"
   ]
  },
  {
   "cell_type": "code",
   "execution_count": 88,
   "id": "62ab1373",
   "metadata": {},
   "outputs": [
    {
     "data": {
      "image/png": "[encoded data removed]",
      "text/plain": [
       "<Figure size 432x288 with 1 Axes>"
      ]
     },
     "metadata": {
      "needs_background": "light"
     },
     "output_type": "display_data"
    }
   ],
   "source": [
    "costs_plot(costs,2)"
   ]
  },
  {
   "cell_type": "code",
   "execution_count": 89,
   "id": "875ac7ba",
   "metadata": {},
   "outputs": [
    {
     "name": "stdout",
     "output_type": "stream",
     "text": [
      "train accuracy: 70.310966%\n",
      "train accuracy: 52.109912%\n"
     ]
    }
   ],
   "source": [
    "# Print accuracy\n",
    "predictions_train = predict(parameters, train_set_x)\n",
    "predictions_test = predict(parameters, test_set_x)\n",
    "print ('train accuracy: %f' % float((np.dot(train_set_y, predictions_train.T) + np.dot(1 - train_set_y, 1 - predictions_train.T)) / float(train_set_y.size) * 100) + '%')\n",
    "print ('train accuracy: %f' % float((np.dot(test_set_y, predictions_test.T) + np.dot(1 - test_set_y, 1 - predictions_test.T)) / float(test_set_y.size) * 100) + '%')"
   ]
  },
  {
   "cell_type": "code",
   "execution_count": 90,
   "id": "0ee746e3",
   "metadata": {},
   "outputs": [],
   "source": [
    "#lets reshape the training set of Y and predictio set Y, so we can use it in the confusion matrix\n",
    "a_t_y = np.reshape(train_set_y,(train_set_y.shape[1],)) \n",
    "a_p_y = np.reshape(predictions_train, (predictions_train.shape[1],))"
   ]
  },
  {
   "cell_type": "code",
   "execution_count": 91,
   "id": "cb960777",
   "metadata": {},
   "outputs": [],
   "source": [
    "cm_n_1 = confusion_matrix(a_t_y, a_p_y)"
   ]
  },
  {
   "cell_type": "code",
   "execution_count": 92,
   "id": "cc9147b2",
   "metadata": {},
   "outputs": [
    {
     "data": {
      "text/plain": [
       "array([[1067,  463],\n",
       "       [ 444, 1081]], dtype=int64)"
      ]
     },
     "execution_count": 92,
     "metadata": {},
     "output_type": "execute_result"
    }
   ],
   "source": [
    "cm_n_1"
   ]
  },
  {
   "cell_type": "code",
   "execution_count": 93,
   "id": "f05e890e",
   "metadata": {},
   "outputs": [
    {
     "name": "stdout",
     "output_type": "stream",
     "text": [
      "recall: 0.706155 | precision: 0.697386 | f1_score: 0.701743\n"
     ]
    }
   ],
   "source": [
    "evaluate(cm_n_1)"
   ]
  },
  {
   "cell_type": "markdown",
   "id": "131edaa4",
   "metadata": {},
   "source": [
    "### Test: #2\n",
    "I will use 4000 iterations, learning rate equals to 1.2, 2 hidden layers of dims 20 and 15"
   ]
  },
  {
   "cell_type": "code",
   "execution_count": 94,
   "id": "362fcae7",
   "metadata": {},
   "outputs": [
    {
     "name": "stdout",
     "output_type": "stream",
     "text": [
      "Cost after iteration 0: 0.6931471851276612\n",
      "Cost after iteration 1000: 0.693135622175311\n",
      "Cost after iteration 2000: 0.6899303790413739\n",
      "Cost after iteration 3000: 0.6636249132913425\n",
      "Cost after iteration 3999: 0.6328099491816883\n"
     ]
    }
   ],
   "source": [
    "# 4-layers model\n",
    "parameters, costs = L_layer_model(train_set_x, train_set_y, layers_dims=[train_set_x.shape[0],20,15,1], learning_rate=1.2,num_iterations = 4000, print_cost = True)"
   ]
  },
  {
   "cell_type": "code",
   "execution_count": 95,
   "id": "3027b4d5",
   "metadata": {},
   "outputs": [
    {
     "data": {
      "image/png": "[encoded data removed]",
      "text/plain": [
       "<Figure size 432x288 with 1 Axes>"
      ]
     },
     "metadata": {
      "needs_background": "light"
     },
     "output_type": "display_data"
    }
   ],
   "source": [
    "costs_plot(costs,1.2)"
   ]
  },
  {
   "cell_type": "code",
   "execution_count": 96,
   "id": "299076bb",
   "metadata": {},
   "outputs": [
    {
     "name": "stdout",
     "output_type": "stream",
     "text": [
      "train accuracy: 61.767594%\n",
      "train accuracy: 51.815505%\n"
     ]
    }
   ],
   "source": [
    "# Print accuracy\n",
    "predictions_train = predict(parameters, train_set_x)\n",
    "predictions_test = predict(parameters, test_set_x)\n",
    "print ('train accuracy: %f' % float((np.dot(train_set_y, predictions_train.T) + np.dot(1 - train_set_y, 1 - predictions_train.T)) / float(train_set_y.size) * 100) + '%')\n",
    "print ('train accuracy: %f' % float((np.dot(test_set_y, predictions_test.T) + np.dot(1 - test_set_y, 1 - predictions_test.T)) / float(test_set_y.size) * 100) + '%')"
   ]
  },
  {
   "cell_type": "code",
   "execution_count": 97,
   "id": "56dc3be1",
   "metadata": {},
   "outputs": [],
   "source": [
    "#lets reshape the training set of Y and predictio set Y, so we can use it in the confusion matrix\n",
    "a_t_y = np.reshape(train_set_y,(train_set_y.shape[1],)) \n",
    "a_p_y = np.reshape(predictions_train, (predictions_train.shape[1],))"
   ]
  },
  {
   "cell_type": "code",
   "execution_count": 98,
   "id": "e147e452",
   "metadata": {},
   "outputs": [],
   "source": [
    "cm_n_2 = confusion_matrix(a_t_y, a_p_y)"
   ]
  },
  {
   "cell_type": "code",
   "execution_count": 99,
   "id": "abd586a5",
   "metadata": {},
   "outputs": [
    {
     "name": "stdout",
     "output_type": "stream",
     "text": [
      "recall: 0.722359 | precision: 0.384314 | f1_score: 0.501706\n"
     ]
    }
   ],
   "source": [
    "evaluate(cm_n_2)"
   ]
  },
  {
   "cell_type": "markdown",
   "id": "9cf73aa7",
   "metadata": {},
   "source": [
    "### Test: #3\n",
    "I will use 6000 iterations, learning rate equals to 1.2, and 2 hidden layers of dims 20 and 15"
   ]
  },
  {
   "cell_type": "code",
   "execution_count": 100,
   "id": "2feed805",
   "metadata": {},
   "outputs": [
    {
     "name": "stdout",
     "output_type": "stream",
     "text": [
      "Cost after iteration 0: 0.6931471851276612\n",
      "Cost after iteration 1000: 0.693135622175311\n",
      "Cost after iteration 2000: 0.6899303790413739\n",
      "Cost after iteration 3000: 0.6636249132913425\n",
      "Cost after iteration 4000: 0.6398550234693594\n",
      "Cost after iteration 5000: 0.6164641530419641\n",
      "Cost after iteration 5999: 0.5604789312631625\n"
     ]
    }
   ],
   "source": [
    "# 4-layers model\n",
    "parameters, costs = L_layer_model(train_set_x, train_set_y, layers_dims=[train_set_x.shape[0],20,15,1], learning_rate=1.2,num_iterations = 6000, print_cost = True)"
   ]
  },
  {
   "cell_type": "code",
   "execution_count": 101,
   "id": "88eb7fc0",
   "metadata": {},
   "outputs": [
    {
     "data": {
      "image/png": "[encoded data removed]",
      "text/plain": [
       "<Figure size 432x288 with 1 Axes>"
      ]
     },
     "metadata": {
      "needs_background": "light"
     },
     "output_type": "display_data"
    }
   ],
   "source": [
    "costs_plot(costs,1.2)"
   ]
  },
  {
   "cell_type": "code",
   "execution_count": 102,
   "id": "df80dcfb",
   "metadata": {},
   "outputs": [
    {
     "name": "stdout",
     "output_type": "stream",
     "text": [
      "train accuracy: 67.659574%\n",
      "train accuracy: 52.109912%\n"
     ]
    }
   ],
   "source": [
    "# Print accuracy\n",
    "predictions_train = predict(parameters, train_set_x)\n",
    "predictions_test = predict(parameters, test_set_x)\n",
    "print ('train accuracy: %f' % float((np.dot(train_set_y, predictions_train.T) + np.dot(1 - train_set_y, 1 - predictions_train.T)) / float(train_set_y.size) * 100) + '%')\n",
    "print ('train accuracy: %f' % float((np.dot(test_set_y, predictions_test.T) + np.dot(1 - test_set_y, 1 - predictions_test.T)) / float(test_set_y.size) * 100) + '%')"
   ]
  },
  {
   "cell_type": "code",
   "execution_count": 103,
   "id": "4e2baab2",
   "metadata": {},
   "outputs": [],
   "source": [
    "#lets reshape the training set of Y and predictio set Y, so we can use it in the confusion matrix\n",
    "a_t_y = np.reshape(train_set_y,(train_set_y.shape[1],)) \n",
    "a_p_y = np.reshape(predictions_train, (predictions_train.shape[1],))"
   ]
  },
  {
   "cell_type": "code",
   "execution_count": 104,
   "id": "dc0901c2",
   "metadata": {},
   "outputs": [],
   "source": [
    "cm_n_3 = confusion_matrix(a_t_y, a_p_y)"
   ]
  },
  {
   "cell_type": "code",
   "execution_count": 105,
   "id": "8a945148",
   "metadata": {},
   "outputs": [
    {
     "name": "stdout",
     "output_type": "stream",
     "text": [
      "recall: 0.782881 | precision: 0.490196 | f1_score: 0.602894\n"
     ]
    }
   ],
   "source": [
    "evaluate(cm_n_3)"
   ]
  },
  {
   "cell_type": "markdown",
   "id": "f4874e13",
   "metadata": {},
   "source": [
    "### Test: #4\n",
    "I will use 6000 iterations, learning rate eqauls to 1.2, and 2 hidden layers of 25 and 20 dims."
   ]
  },
  {
   "cell_type": "code",
   "execution_count": 106,
   "id": "8fe09a24",
   "metadata": {},
   "outputs": [
    {
     "name": "stdout",
     "output_type": "stream",
     "text": [
      "Cost after iteration 0: 0.6931473391384972\n",
      "Cost after iteration 1000: 0.6931377383084416\n",
      "Cost after iteration 2000: 0.6903444615952667\n",
      "Cost after iteration 3000: 0.6659372388989211\n",
      "Cost after iteration 4000: 0.6192632949150291\n",
      "Cost after iteration 5000: 0.6154006904432403\n",
      "Cost after iteration 5999: 0.513740473134194\n"
     ]
    }
   ],
   "source": [
    "# 4-layers model\n",
    "parameters, costs = L_layer_model(train_set_x, train_set_y, layers_dims=[train_set_x.shape[0],25,20,1], learning_rate=1.2,num_iterations = 6000, print_cost = True)"
   ]
  },
  {
   "cell_type": "code",
   "execution_count": 107,
   "id": "751f2284",
   "metadata": {},
   "outputs": [
    {
     "data": {
      "image/png": "[encoded data removed]",
      "text/plain": [
       "<Figure size 432x288 with 1 Axes>"
      ]
     },
     "metadata": {
      "needs_background": "light"
     },
     "output_type": "display_data"
    }
   ],
   "source": [
    "costs_plot(costs,1.2)"
   ]
  },
  {
   "cell_type": "code",
   "execution_count": 108,
   "id": "cd5074be",
   "metadata": {},
   "outputs": [
    {
     "name": "stdout",
     "output_type": "stream",
     "text": [
      "train accuracy: 72.896890%\n",
      "train accuracy: 53.091266%\n"
     ]
    }
   ],
   "source": [
    "# Print accuracy\n",
    "predictions_train = predict(parameters, train_set_x)\n",
    "predictions_test = predict(parameters, test_set_x)\n",
    "print ('train accuracy: %f' % float((np.dot(train_set_y, predictions_train.T) + np.dot(1 - train_set_y, 1 - predictions_train.T)) / float(train_set_y.size) * 100) + '%')\n",
    "print ('train accuracy: %f' % float((np.dot(test_set_y, predictions_test.T) + np.dot(1 - test_set_y, 1 - predictions_test.T)) / float(test_set_y.size) * 100) + '%')"
   ]
  },
  {
   "cell_type": "code",
   "execution_count": 109,
   "id": "4023cb7b",
   "metadata": {},
   "outputs": [],
   "source": [
    "#lets reshape the training set of Y and predictio set Y, so we can use it in the confusion matrix\n",
    "a_t_y = np.reshape(train_set_y,(train_set_y.shape[1],)) \n",
    "a_p_y = np.reshape(predictions_train, (predictions_train.shape[1],))"
   ]
  },
  {
   "cell_type": "code",
   "execution_count": 110,
   "id": "a55c9754",
   "metadata": {},
   "outputs": [],
   "source": [
    "cm_n_4 = confusion_matrix(a_t_y, a_p_y)"
   ]
  },
  {
   "cell_type": "code",
   "execution_count": 111,
   "id": "669565ae",
   "metadata": {},
   "outputs": [
    {
     "name": "stdout",
     "output_type": "stream",
     "text": [
      "recall: 0.811723 | precision: 0.597386 | f1_score: 0.688253\n"
     ]
    }
   ],
   "source": [
    "evaluate(cm_n_4)"
   ]
  },
  {
   "cell_type": "markdown",
   "id": "8d80108a",
   "metadata": {},
   "source": [
    "### Test: #5\n",
    "I will use 6000 iterations, learning rate equals to 1.2, and 3 hidden layers of dims 25, 20, and 10"
   ]
  },
  {
   "cell_type": "code",
   "execution_count": 112,
   "id": "e6900910",
   "metadata": {},
   "outputs": [
    {
     "name": "stdout",
     "output_type": "stream",
     "text": [
      "Cost after iteration 0: 0.6931471878671974\n",
      "Cost after iteration 1000: 0.6931458431029841\n",
      "Cost after iteration 2000: 0.693145842153495\n",
      "Cost after iteration 3000: 0.6931458412259195\n",
      "Cost after iteration 4000: 0.6931458402563877\n",
      "Cost after iteration 5000: 0.6931458391885407\n",
      "Cost after iteration 5999: 0.6931458380702786\n"
     ]
    }
   ],
   "source": [
    "# 4-layers model\n",
    "parameters, costs = L_layer_model(train_set_x, train_set_y, layers_dims=[train_set_x.shape[0],25,20,10,1], learning_rate=1.2,num_iterations = 6000, print_cost = True)"
   ]
  },
  {
   "cell_type": "code",
   "execution_count": 113,
   "id": "480bc09f",
   "metadata": {},
   "outputs": [
    {
     "data": {
      "image/png": "[encoded data removed]",
      "text/plain": [
       "<Figure size 432x288 with 1 Axes>"
      ]
     },
     "metadata": {
      "needs_background": "light"
     },
     "output_type": "display_data"
    }
   ],
   "source": [
    "costs_plot(costs,1.2)"
   ]
  },
  {
   "cell_type": "code",
   "execution_count": 114,
   "id": "9ae72eb3",
   "metadata": {},
   "outputs": [
    {
     "name": "stdout",
     "output_type": "stream",
     "text": [
      "train accuracy: 50.081833%\n",
      "train accuracy: 49.754661%\n"
     ]
    }
   ],
   "source": [
    "# Print accuracy\n",
    "predictions_train = predict(parameters, train_set_x)\n",
    "predictions_test = predict(parameters, test_set_x)\n",
    "print ('train accuracy: %f' % float((np.dot(train_set_y, predictions_train.T) + np.dot(1 - train_set_y, 1 - predictions_train.T)) / float(train_set_y.size) * 100) + '%')\n",
    "print ('train accuracy: %f' % float((np.dot(test_set_y, predictions_test.T) + np.dot(1 - test_set_y, 1 - predictions_test.T)) / float(test_set_y.size) * 100) + '%')"
   ]
  },
  {
   "cell_type": "code",
   "execution_count": 115,
   "id": "bffb21fa",
   "metadata": {},
   "outputs": [],
   "source": [
    "#lets reshape the training set of Y and predictio set Y, so we can use it in the confusion matrix\n",
    "a_t_y = np.reshape(train_set_y,(train_set_y.shape[1],)) \n",
    "a_p_y = np.reshape(predictions_train, (predictions_train.shape[1],))"
   ]
  },
  {
   "cell_type": "code",
   "execution_count": 116,
   "id": "1734b885",
   "metadata": {},
   "outputs": [],
   "source": [
    "cm_n_5 = confusion_matrix(a_t_y, a_p_y)"
   ]
  },
  {
   "cell_type": "code",
   "execution_count": 117,
   "id": "3e43e976",
   "metadata": {},
   "outputs": [
    {
     "name": "stdout",
     "output_type": "stream",
     "text": [
      "recall: 0.500818 | precision: 1.000000 | f1_score: 0.667394\n"
     ]
    }
   ],
   "source": [
    "evaluate(cm_n_5)"
   ]
  },
  {
   "cell_type": "markdown",
   "id": "c4fc29c2",
   "metadata": {},
   "source": [
    "### Test: #6\n",
    "I will use 6000 iterations, learning rate equals to 1.8, and 3 hidden layers of size 25,20,10"
   ]
  },
  {
   "cell_type": "code",
   "execution_count": 118,
   "id": "6b04d068",
   "metadata": {},
   "outputs": [
    {
     "name": "stdout",
     "output_type": "stream",
     "text": [
      "Cost after iteration 0: 0.6931471878671974\n",
      "Cost after iteration 1000: 0.6931458404451295\n",
      "Cost after iteration 2000: 0.6931458385311016\n",
      "Cost after iteration 3000: 0.6931458367701869\n",
      "Cost after iteration 4000: 0.693145834893259\n",
      "Cost after iteration 5000: 0.6931458328639474\n",
      "Cost after iteration 5999: 0.6931458305916163\n"
     ]
    }
   ],
   "source": [
    "# 4-layers model\n",
    "parameters, costs = L_layer_model(train_set_x, train_set_y, layers_dims=[train_set_x.shape[0],25,20,10,1], learning_rate=1.8,num_iterations = 6000, print_cost = True)"
   ]
  },
  {
   "cell_type": "code",
   "execution_count": 119,
   "id": "7c8b3586",
   "metadata": {},
   "outputs": [
    {
     "data": {
      "image/png": "[encoded data removed]",
      "text/plain": [
       "<Figure size 432x288 with 1 Axes>"
      ]
     },
     "metadata": {
      "needs_background": "light"
     },
     "output_type": "display_data"
    }
   ],
   "source": [
    "costs_plot(costs,1.8)"
   ]
  },
  {
   "cell_type": "code",
   "execution_count": 120,
   "id": "d1fc9e03",
   "metadata": {},
   "outputs": [
    {
     "name": "stdout",
     "output_type": "stream",
     "text": [
      "train accuracy: 50.081833%\n",
      "train accuracy: 49.754661%\n"
     ]
    }
   ],
   "source": [
    "# Print accuracy\n",
    "predictions_train = predict(parameters, train_set_x)\n",
    "predictions_test = predict(parameters, test_set_x)\n",
    "print ('train accuracy: %f' % float((np.dot(train_set_y, predictions_train.T) + np.dot(1 - train_set_y, 1 - predictions_train.T)) / float(train_set_y.size) * 100) + '%')\n",
    "print ('train accuracy: %f' % float((np.dot(test_set_y, predictions_test.T) + np.dot(1 - test_set_y, 1 - predictions_test.T)) / float(test_set_y.size) * 100) + '%')"
   ]
  },
  {
   "cell_type": "code",
   "execution_count": 121,
   "id": "d6e414b2",
   "metadata": {},
   "outputs": [],
   "source": [
    "#lets reshape the training set of Y and predictio set Y, so we can use it in the confusion matrix\n",
    "a_t_y = np.reshape(train_set_y,(train_set_y.shape[1],)) \n",
    "a_p_y = np.reshape(predictions_train, (predictions_train.shape[1],))"
   ]
  },
  {
   "cell_type": "code",
   "execution_count": 122,
   "id": "a36f6896",
   "metadata": {},
   "outputs": [],
   "source": [
    "cm_n_6 = confusion_matrix(a_t_y, a_p_y)"
   ]
  },
  {
   "cell_type": "code",
   "execution_count": 123,
   "id": "373e5b32",
   "metadata": {},
   "outputs": [
    {
     "name": "stdout",
     "output_type": "stream",
     "text": [
      "recall: 0.500818 | precision: 1.000000 | f1_score: 0.667394\n"
     ]
    }
   ],
   "source": [
    "evaluate(cm_n_6)"
   ]
  },
  {
   "cell_type": "markdown",
   "id": "1fc7fed6",
   "metadata": {},
   "source": [
    "### Test: #7\n",
    "I will use 80000 iterations, learning rate equals to 1.2, and 2 hidden layers of size 10 and 7"
   ]
  },
  {
   "cell_type": "code",
   "execution_count": 124,
   "id": "c688e6e3",
   "metadata": {},
   "outputs": [
    {
     "name": "stdout",
     "output_type": "stream",
     "text": [
      "Cost after iteration 0: 0.69314718748374\n",
      "Cost after iteration 1000: 0.693145815574984\n",
      "Cost after iteration 2000: 0.69314570392856\n",
      "Cost after iteration 3000: 0.6931452899409326\n",
      "Cost after iteration 4000: 0.6931378059348206\n",
      "Cost after iteration 5000: 0.6904867100341612\n",
      "Cost after iteration 6000: 0.6698549836431338\n",
      "Cost after iteration 7000: 0.6587636469160003\n",
      "Cost after iteration 8000: 0.6524847062519872\n",
      "Cost after iteration 9000: 0.6435621480641754\n",
      "Cost after iteration 10000: 0.6385642260985636\n",
      "Cost after iteration 11000: 0.6307576539502499\n",
      "Cost after iteration 12000: 0.628081972351922\n",
      "Cost after iteration 13000: 0.6320538675379666\n",
      "Cost after iteration 14000: 0.625191299248827\n",
      "Cost after iteration 15000: 0.6143439993335076\n",
      "Cost after iteration 16000: 0.6142476554419797\n",
      "Cost after iteration 17000: 0.6171951907789649\n",
      "Cost after iteration 18000: 0.6198587454681495\n",
      "Cost after iteration 19000: 0.6145158501530231\n",
      "Cost after iteration 20000: 0.6116559414773535\n",
      "Cost after iteration 21000: 0.6084978944732613\n",
      "Cost after iteration 22000: 0.6042388374930608\n",
      "Cost after iteration 23000: 0.6230328791387326\n",
      "Cost after iteration 24000: 0.6175938409613075\n",
      "Cost after iteration 25000: 0.6019149463177423\n",
      "Cost after iteration 26000: 0.6110218740811321\n",
      "Cost after iteration 27000: 0.6144172214026986\n",
      "Cost after iteration 28000: 0.6065539674967024\n",
      "Cost after iteration 29000: 0.6040013051122789\n",
      "Cost after iteration 30000: 0.6175586615924353\n",
      "Cost after iteration 31000: 0.6032795511421233\n",
      "Cost after iteration 32000: 0.6179373682947722\n",
      "Cost after iteration 33000: 0.6141339753070715\n",
      "Cost after iteration 34000: 0.6030713910597433\n",
      "Cost after iteration 35000: 0.60716644772583\n",
      "Cost after iteration 36000: 0.6040656925714925\n",
      "Cost after iteration 37000: 0.6037105990912228\n",
      "Cost after iteration 38000: 0.617442538361339\n",
      "Cost after iteration 39000: 0.6049012241028807\n",
      "Cost after iteration 40000: 0.6173130431055992\n",
      "Cost after iteration 41000: 0.6042755153078336\n",
      "Cost after iteration 42000: 0.6197367009934293\n",
      "Cost after iteration 43000: 0.60007351899847\n",
      "Cost after iteration 44000: 0.6020735408175175\n",
      "Cost after iteration 45000: 0.5995816123872609\n",
      "Cost after iteration 46000: 0.6093646451034597\n",
      "Cost after iteration 47000: 0.5978634979832697\n",
      "Cost after iteration 48000: 0.6049893427705435\n",
      "Cost after iteration 49000: 0.5995136444077054\n",
      "Cost after iteration 50000: 0.5984038228673162\n",
      "Cost after iteration 51000: 0.5973843529518456\n",
      "Cost after iteration 52000: 0.5984974663068776\n",
      "Cost after iteration 53000: 0.6034135591798198\n",
      "Cost after iteration 54000: 0.6049332485861479\n",
      "Cost after iteration 55000: 0.6103385078370005\n",
      "Cost after iteration 56000: 0.6067582951279316\n",
      "Cost after iteration 57000: 0.6107631008669363\n",
      "Cost after iteration 58000: 0.6094171207591288\n",
      "Cost after iteration 59000: 0.5974553518273233\n",
      "Cost after iteration 60000: 0.6055471192544749\n",
      "Cost after iteration 61000: 0.5941043016681146\n",
      "Cost after iteration 62000: 0.6005933063188292\n",
      "Cost after iteration 63000: 0.6026104416395184\n",
      "Cost after iteration 64000: 0.6018610364353557\n",
      "Cost after iteration 65000: 0.5986604662556247\n",
      "Cost after iteration 66000: 0.5972014777984178\n",
      "Cost after iteration 67000: 0.6008111311740642\n",
      "Cost after iteration 68000: 0.6097257296267093\n",
      "Cost after iteration 69000: 0.5954835319185486\n",
      "Cost after iteration 70000: 0.6021635076454204\n",
      "Cost after iteration 71000: 0.5925826148741489\n",
      "Cost after iteration 72000: 0.597516039535647\n",
      "Cost after iteration 73000: 0.6079904036590472\n",
      "Cost after iteration 74000: 0.6037176674249394\n",
      "Cost after iteration 75000: 0.6048677315400334\n",
      "Cost after iteration 76000: 0.6076508640257856\n",
      "Cost after iteration 77000: 0.6066238966391011\n",
      "Cost after iteration 78000: 0.5932428913341035\n",
      "Cost after iteration 79000: 0.6059758783697695\n",
      "Cost after iteration 79999: 0.5992163919597795\n"
     ]
    }
   ],
   "source": [
    "# 4-layers model\n",
    "parameters, costs = L_layer_model(train_set_x, train_set_y, layers_dims=[train_set_x.shape[0],10,7,1], learning_rate=1.2,num_iterations = 80000, print_cost = True)"
   ]
  },
  {
   "cell_type": "code",
   "execution_count": 125,
   "id": "11d6fe39",
   "metadata": {},
   "outputs": [
    {
     "data": {
      "image/png": "[encoded data removed]",
      "text/plain": [
       "<Figure size 432x288 with 1 Axes>"
      ]
     },
     "metadata": {
      "needs_background": "light"
     },
     "output_type": "display_data"
    }
   ],
   "source": [
    "costs_plot(costs,1.2)"
   ]
  },
  {
   "cell_type": "code",
   "execution_count": 126,
   "id": "a39d088e",
   "metadata": {},
   "outputs": [
    {
     "name": "stdout",
     "output_type": "stream",
     "text": [
      "train accuracy: 66.350245%\n",
      "train accuracy: 49.263984%\n"
     ]
    }
   ],
   "source": [
    "# Print accuracy\n",
    "predictions_train = predict(parameters, train_set_x)\n",
    "predictions_test = predict(parameters, test_set_x)\n",
    "print ('train accuracy: %f' % float((np.dot(train_set_y, predictions_train.T) + np.dot(1 - train_set_y, 1 - predictions_train.T)) / float(train_set_y.size) * 100) + '%')\n",
    "print ('train accuracy: %f' % float((np.dot(test_set_y, predictions_test.T) + np.dot(1 - test_set_y, 1 - predictions_test.T)) / float(test_set_y.size) * 100) + '%')"
   ]
  },
  {
   "cell_type": "code",
   "execution_count": 127,
   "id": "887e8ecc",
   "metadata": {},
   "outputs": [],
   "source": [
    "#lets reshape the training set of Y and predictio set Y, so we can use it in the confusion matrix\n",
    "a_t_y = np.reshape(train_set_y,(train_set_y.shape[1],)) \n",
    "a_p_y = np.reshape(predictions_train, (predictions_train.shape[1],))"
   ]
  },
  {
   "cell_type": "code",
   "execution_count": 128,
   "id": "9d4c40f3",
   "metadata": {},
   "outputs": [],
   "source": [
    "cm_n_7 = confusion_matrix(a_t_y, a_p_y)"
   ]
  },
  {
   "cell_type": "code",
   "execution_count": 129,
   "id": "0379968c",
   "metadata": {},
   "outputs": [
    {
     "data": {
      "text/plain": [
       "array([[ 815,  715],\n",
       "       [ 313, 1212]], dtype=int64)"
      ]
     },
     "execution_count": 129,
     "metadata": {},
     "output_type": "execute_result"
    }
   ],
   "source": [
    "cm_n_7"
   ]
  },
  {
   "cell_type": "code",
   "execution_count": 130,
   "id": "cb77efbe",
   "metadata": {},
   "outputs": [
    {
     "name": "stdout",
     "output_type": "stream",
     "text": [
      "recall: 0.722518 | precision: 0.532680 | f1_score: 0.613243\n"
     ]
    }
   ],
   "source": [
    "evaluate(cm_n_7)"
   ]
  },
  {
   "cell_type": "markdown",
   "id": "70b61b4c",
   "metadata": {},
   "source": [
    "### Test: #8\n",
    "I will use 80000 iterations, learning rate equals to 0.7, and 2 hidden layers of size 10 and 7"
   ]
  },
  {
   "cell_type": "code",
   "execution_count": 131,
   "id": "388e1957",
   "metadata": {},
   "outputs": [
    {
     "name": "stdout",
     "output_type": "stream",
     "text": [
      "Cost after iteration 0: 0.69314718748374\n",
      "Cost after iteration 1000: 0.6931458250846405\n",
      "Cost after iteration 2000: 0.6931458122705891\n",
      "Cost after iteration 3000: 0.6931457567880771\n",
      "Cost after iteration 4000: 0.6931456807350687\n",
      "Cost after iteration 5000: 0.6931454995771733\n",
      "Cost after iteration 6000: 0.6931448763609962\n",
      "Cost after iteration 7000: 0.6931409325390072\n",
      "Cost after iteration 8000: 0.6930396384725416\n",
      "Cost after iteration 9000: 0.6899028012209741\n",
      "Cost after iteration 10000: 0.6736321882502025\n",
      "Cost after iteration 11000: 0.6687957218931159\n",
      "Cost after iteration 12000: 0.6628652720809287\n",
      "Cost after iteration 13000: 0.6546797734399387\n",
      "Cost after iteration 14000: 0.6460751930527698\n",
      "Cost after iteration 15000: 0.6416573199147085\n",
      "Cost after iteration 16000: 0.6388414610184313\n",
      "Cost after iteration 17000: 0.6314394473667235\n",
      "Cost after iteration 18000: 0.6384205007815767\n",
      "Cost after iteration 19000: 0.6342854577013382\n",
      "Cost after iteration 20000: 0.6428643220788456\n",
      "Cost after iteration 21000: 0.6360024807396614\n",
      "Cost after iteration 22000: 0.638349030518288\n",
      "Cost after iteration 23000: 0.6359366689909365\n",
      "Cost after iteration 24000: 0.6370351629871915\n",
      "Cost after iteration 25000: 0.6344766118385418\n",
      "Cost after iteration 26000: 0.6371738768376172\n",
      "Cost after iteration 27000: 0.628183356346312\n",
      "Cost after iteration 28000: 0.6267477872098619\n",
      "Cost after iteration 29000: 0.6209015075768775\n",
      "Cost after iteration 30000: 0.6365472603104159\n",
      "Cost after iteration 31000: 0.6259483613833573\n",
      "Cost after iteration 32000: 0.6272848942964473\n",
      "Cost after iteration 33000: 0.6250180167132252\n",
      "Cost after iteration 34000: 0.6270138720461749\n",
      "Cost after iteration 35000: 0.6268144014267812\n",
      "Cost after iteration 36000: 0.6419880158715621\n",
      "Cost after iteration 37000: 0.635303389759561\n",
      "Cost after iteration 38000: 0.6206122859641408\n",
      "Cost after iteration 39000: 0.625224959158094\n",
      "Cost after iteration 40000: 0.6273080619492373\n",
      "Cost after iteration 41000: 0.6234731215732544\n",
      "Cost after iteration 42000: 0.6256639419611777\n",
      "Cost after iteration 43000: 0.628012146448587\n",
      "Cost after iteration 44000: 0.619931868740838\n",
      "Cost after iteration 45000: 0.616348295955601\n",
      "Cost after iteration 46000: 0.6204117785388595\n",
      "Cost after iteration 47000: 0.6242457011241996\n",
      "Cost after iteration 48000: 0.6256763793797288\n",
      "Cost after iteration 49000: 0.6217814261992397\n",
      "Cost after iteration 50000: 0.6270798852759509\n",
      "Cost after iteration 51000: 0.6194100617443803\n",
      "Cost after iteration 52000: 0.6147786799422803\n",
      "Cost after iteration 53000: 0.6385151550165349\n",
      "Cost after iteration 54000: 0.6245249234891744\n",
      "Cost after iteration 55000: 0.6206706527680355\n",
      "Cost after iteration 56000: 0.6130381822319962\n",
      "Cost after iteration 57000: 0.6151867749716587\n",
      "Cost after iteration 58000: 0.6208510346305018\n",
      "Cost after iteration 59000: 0.6219348830247751\n",
      "Cost after iteration 60000: 0.626993577189853\n",
      "Cost after iteration 61000: 0.6274018004275288\n",
      "Cost after iteration 62000: 0.6242569263506874\n",
      "Cost after iteration 63000: 0.6339289315590394\n",
      "Cost after iteration 64000: 0.6212380403909075\n",
      "Cost after iteration 65000: 0.6234076157667641\n",
      "Cost after iteration 66000: 0.6126897861417807\n",
      "Cost after iteration 67000: 0.6352086874165281\n",
      "Cost after iteration 68000: 0.6188059937454627\n",
      "Cost after iteration 69000: 0.6263279018595623\n",
      "Cost after iteration 70000: 0.6193064885834092\n",
      "Cost after iteration 71000: 0.6155625735968989\n",
      "Cost after iteration 72000: 0.6243057784564505\n",
      "Cost after iteration 73000: 0.6203090761926968\n",
      "Cost after iteration 74000: 0.629259737987681\n",
      "Cost after iteration 75000: 0.6139397870304649\n",
      "Cost after iteration 76000: 0.624712431566252\n",
      "Cost after iteration 77000: 0.6388230109674918\n",
      "Cost after iteration 78000: 0.6168118560602189\n",
      "Cost after iteration 79000: 0.6257396405385529\n",
      "Cost after iteration 79999: 0.6223959072358279\n"
     ]
    }
   ],
   "source": [
    "# 4-layers model\n",
    "parameters, costs = L_layer_model(train_set_x, train_set_y, layers_dims=[train_set_x.shape[0],10,7,1], learning_rate=0.7,num_iterations = 80000, print_cost = True)"
   ]
  },
  {
   "cell_type": "code",
   "execution_count": 132,
   "id": "0fa8f9e9",
   "metadata": {},
   "outputs": [
    {
     "data": {
      "image/png": "[encoded data removed]",
      "text/plain": [
       "<Figure size 432x288 with 1 Axes>"
      ]
     },
     "metadata": {
      "needs_background": "light"
     },
     "output_type": "display_data"
    }
   ],
   "source": [
    "costs_plot(costs,0.7)"
   ]
  },
  {
   "cell_type": "code",
   "execution_count": 133,
   "id": "1f232bb2",
   "metadata": {},
   "outputs": [
    {
     "name": "stdout",
     "output_type": "stream",
     "text": [
      "train accuracy: 63.207856%\n",
      "train accuracy: 51.815505%\n"
     ]
    }
   ],
   "source": [
    "# Print accuracy\n",
    "predictions_train = predict(parameters, train_set_x)\n",
    "predictions_test = predict(parameters, test_set_x)\n",
    "print ('train accuracy: %f' % float((np.dot(train_set_y, predictions_train.T) + np.dot(1 - train_set_y, 1 - predictions_train.T)) / float(train_set_y.size) * 100) + '%')\n",
    "print ('train accuracy: %f' % float((np.dot(test_set_y, predictions_test.T) + np.dot(1 - test_set_y, 1 - predictions_test.T)) / float(test_set_y.size) * 100) + '%')"
   ]
  },
  {
   "cell_type": "code",
   "execution_count": 134,
   "id": "2f38130f",
   "metadata": {},
   "outputs": [],
   "source": [
    "#lets reshape the training set of Y and predictio set Y, so we can use it in the confusion matrix\n",
    "a_t_y = np.reshape(train_set_y,(train_set_y.shape[1],)) \n",
    "a_p_y = np.reshape(predictions_train, (predictions_train.shape[1],))"
   ]
  },
  {
   "cell_type": "code",
   "execution_count": 135,
   "id": "20d220fe",
   "metadata": {},
   "outputs": [],
   "source": [
    "cm_n_8 = confusion_matrix(a_t_y, a_p_y)"
   ]
  },
  {
   "cell_type": "code",
   "execution_count": 136,
   "id": "81639ada",
   "metadata": {},
   "outputs": [
    {
     "data": {
      "text/plain": [
       "array([[1214,  316],\n",
       "       [ 808,  717]], dtype=int64)"
      ]
     },
     "execution_count": 136,
     "metadata": {},
     "output_type": "execute_result"
    }
   ],
   "source": [
    "cm_n_8"
   ]
  },
  {
   "cell_type": "code",
   "execution_count": 137,
   "id": "17883910",
   "metadata": {},
   "outputs": [
    {
     "name": "stdout",
     "output_type": "stream",
     "text": [
      "recall: 0.600396 | precision: 0.793464 | f1_score: 0.683559\n"
     ]
    }
   ],
   "source": [
    "evaluate(cm_n_8)"
   ]
  },
  {
   "cell_type": "markdown",
   "id": "3b416941",
   "metadata": {},
   "source": [
    "### Discussing the results\n",
    "The idea behind all this number of test is to see how my model behaves in different use cases. In, general, the model works good in terms of implementing different function, but **it still has a weak perfermance**. Moreover, to inhance the performance, I need to work, as I said previously, on an optimization process that is linked directly to the hyperparameters such as number of iterations, learning rate, number of hidden layers, the size of each layer..."
   ]
  },
  {
   "cell_type": "markdown",
   "id": "c368ee0e",
   "metadata": {},
   "source": [
    "## Additional Things: Working with tanh as an activation function for hidden layers"
   ]
  },
  {
   "cell_type": "code",
   "execution_count": null,
   "id": "19a801fd",
   "metadata": {},
   "outputs": [],
   "source": []
  }
 ],
 "metadata": {
  "kernelspec": {
   "display_name": "Python 3 (ipykernel)",
   "language": "python",
   "name": "python3"
  },
  "language_info": {
   "codemirror_mode": {
    "name": "ipython",
    "version": 3
   },
   "file_extension": ".py",
   "mimetype": "text/x-python",
   "name": "python",
   "nbconvert_exporter": "python",
   "pygments_lexer": "ipython3",
   "version": "3.10.0"
  }
 },
 "nbformat": 4,
 "nbformat_minor": 5
}
